{
 "cells": [
  {
   "cell_type": "code",
   "execution_count": 103,
   "metadata": {},
   "outputs": [],
   "source": [
    "import numpy as np\n",
    "import pandas as pd\n",
    "\n",
    "from sklearn.cluster import KMeans, DBSCAN, OPTICS, SpectralClustering\n",
    "from sklearn.decomposition import PCA, TruncatedSVD\n",
    "from scipy.linalg import svd, decomp_svd\n",
    "from scipy.sparse import csc, csr, coo_matrix\n",
    "from sklearn import preprocessing\n",
    "from sklearn.ensemble import RandomForestClassifier, RandomForestRegressor\n",
    "from xgboost import XGBRegressor\n",
    "from sklearn.model_selection import train_test_split\n",
    "from sklearn.metrics import mean_absolute_error\n",
    "from sklearn.preprocessing import LabelEncoder\n",
    "\n",
    "from matplotlib.ticker import FuncFormatter, Formatter\n",
    "import matplotlib.pyplot as plt\n",
    "import seaborn as sns\n",
    "sns.set()\n",
    "\n",
    "from gensim.models import Word2Vec\n",
    "from nltk.corpus import stopwords\n",
    "from nltk.tokenize import word_tokenize\n",
    "from nltk.stem import SnowballStemmer\n",
    "import re\n",
    "\n",
    "from io import BytesIO\n",
    "from PIL import Image\n",
    "import requests\n",
    "from scipy.sparse.linalg import svds\n",
    "import tqdm"
   ]
  },
  {
   "cell_type": "markdown",
   "metadata": {},
   "source": [
    "### And we may start implementation & research of our recommendation systems techniques!\n",
    "### !!! Here we go !!! @fabriziorom"
   ]
  },
  {
   "cell_type": "markdown",
   "metadata": {},
   "source": [
    "### Firstly, let's read our datasets and completete preliminary data research."
   ]
  },
  {
   "cell_type": "code",
   "execution_count": null,
   "metadata": {},
   "outputs": [],
   "source": [
    "books = pd.read_csv('tools\\\\BX-Books.csv')\n",
    "interactions = pd.read_csv(\"tools\\\\BX-Book-Ratings.csv\", sep=\";\", encoding = \"ISO-8859-1\")"
   ]
  },
  {
   "cell_type": "code",
   "execution_count": 4,
   "metadata": {},
   "outputs": [],
   "source": [
    "interactions = interactions.drop_duplicates()"
   ]
  },
  {
   "cell_type": "code",
   "execution_count": 5,
   "metadata": {},
   "outputs": [
    {
     "name": "stdout",
     "output_type": "stream",
     "text": [
      "Initial length of all interactions: 1149780\n",
      "Initial length of all books: 271360\n"
     ]
    }
   ],
   "source": [
    "print(f\"Initial length of all interactions: {len(interactions)}\")\n",
    "print(f\"Initial length of all books: {len(books)}\")"
   ]
  },
  {
   "cell_type": "code",
   "execution_count": 6,
   "metadata": {},
   "outputs": [
    {
     "name": "stdout",
     "output_type": "stream",
     "text": [
      "Length of non-null ratings: 433671\n"
     ]
    }
   ],
   "source": [
    "interactions = interactions[interactions[\"Book-Rating\"] != 0]\n",
    "print(f\"Length of non-null ratings: {len(interactions)}\")"
   ]
  },
  {
   "cell_type": "markdown",
   "metadata": {},
   "source": [
    "### From 1.1m to 4.33k interactions: data cut back."
   ]
  },
  {
   "cell_type": "code",
   "execution_count": 7,
   "metadata": {},
   "outputs": [
    {
     "data": {
      "text/html": [
       "<div>\n",
       "<style scoped>\n",
       "    .dataframe tbody tr th:only-of-type {\n",
       "        vertical-align: middle;\n",
       "    }\n",
       "\n",
       "    .dataframe tbody tr th {\n",
       "        vertical-align: top;\n",
       "    }\n",
       "\n",
       "    .dataframe thead th {\n",
       "        text-align: right;\n",
       "    }\n",
       "</style>\n",
       "<table border=\"1\" class=\"dataframe\">\n",
       "  <thead>\n",
       "    <tr style=\"text-align: right;\">\n",
       "      <th></th>\n",
       "      <th>User-ID</th>\n",
       "      <th>ISBN</th>\n",
       "      <th>Book-Rating</th>\n",
       "    </tr>\n",
       "  </thead>\n",
       "  <tbody>\n",
       "    <tr>\n",
       "      <th>1</th>\n",
       "      <td>276726</td>\n",
       "      <td>0155061224</td>\n",
       "      <td>5</td>\n",
       "    </tr>\n",
       "    <tr>\n",
       "      <th>3</th>\n",
       "      <td>276729</td>\n",
       "      <td>052165615X</td>\n",
       "      <td>3</td>\n",
       "    </tr>\n",
       "    <tr>\n",
       "      <th>4</th>\n",
       "      <td>276729</td>\n",
       "      <td>0521795028</td>\n",
       "      <td>6</td>\n",
       "    </tr>\n",
       "    <tr>\n",
       "      <th>6</th>\n",
       "      <td>276736</td>\n",
       "      <td>3257224281</td>\n",
       "      <td>8</td>\n",
       "    </tr>\n",
       "    <tr>\n",
       "      <th>7</th>\n",
       "      <td>276737</td>\n",
       "      <td>0600570967</td>\n",
       "      <td>6</td>\n",
       "    </tr>\n",
       "  </tbody>\n",
       "</table>\n",
       "</div>"
      ],
      "text/plain": [
       "   User-ID        ISBN  Book-Rating\n",
       "1   276726  0155061224            5\n",
       "3   276729  052165615X            3\n",
       "4   276729  0521795028            6\n",
       "6   276736  3257224281            8\n",
       "7   276737  0600570967            6"
      ]
     },
     "execution_count": 7,
     "metadata": {},
     "output_type": "execute_result"
    }
   ],
   "source": [
    "interactions.head()"
   ]
  },
  {
   "cell_type": "code",
   "execution_count": 8,
   "metadata": {},
   "outputs": [
    {
     "name": "stdout",
     "output_type": "stream",
     "text": [
      "Unique number of users: 77805\n"
     ]
    }
   ],
   "source": [
    "print(f\"Unique number of users: {interactions['User-ID'].nunique()}\")"
   ]
  },
  {
   "cell_type": "code",
   "execution_count": 9,
   "metadata": {},
   "outputs": [
    {
     "name": "stdout",
     "output_type": "stream",
     "text": [
      "Mean rate for all: 7.60\n"
     ]
    }
   ],
   "source": [
    "print(f\"Mean rate for all: {interactions['Book-Rating'].mean():.2f}\")"
   ]
  },
  {
   "cell_type": "markdown",
   "metadata": {},
   "source": [
    "#### Ratings distribution:"
   ]
  },
  {
   "cell_type": "code",
   "execution_count": 157,
   "metadata": {},
   "outputs": [
    {
     "data": {
      "text/plain": [
       "Text(0.5, 1.0, 'Distribution for the Book-Ratings')"
      ]
     },
     "execution_count": 157,
     "metadata": {},
     "output_type": "execute_result"
    },
    {
     "data": {
      "image/png": "[encoded data removed]",
      "text/plain": [
       "<Figure size 640x480 with 1 Axes>"
      ]
     },
     "metadata": {},
     "output_type": "display_data"
    }
   ],
   "source": [
    "sns.histplot(data = interactions, x = 'Book-Rating', color = 'chocolate', kde = True)\n",
    "plt.title('Distribution for the Book-Ratings')"
   ]
  },
  {
   "cell_type": "markdown",
   "metadata": {},
   "source": [
    "#### Mostly we have greater than 5 ratings. Further we'll filter data from low-rated books, cause our goal is to recommend high-rated instances. "
   ]
  },
  {
   "cell_type": "markdown",
   "metadata": {},
   "source": [
    "#### Let's check for number of users to react on the book:"
   ]
  },
  {
   "cell_type": "code",
   "execution_count": 10,
   "metadata": {},
   "outputs": [],
   "source": [
    "books_meets = interactions.groupby(\"ISBN\")[\"User-ID\"].count().reset_index().rename(columns={\"User-ID\": \"user_num\"})"
   ]
  },
  {
   "cell_type": "code",
   "execution_count": 11,
   "metadata": {},
   "outputs": [
    {
     "data": {
      "text/html": [
       "<div>\n",
       "<style scoped>\n",
       "    .dataframe tbody tr th:only-of-type {\n",
       "        vertical-align: middle;\n",
       "    }\n",
       "\n",
       "    .dataframe tbody tr th {\n",
       "        vertical-align: top;\n",
       "    }\n",
       "\n",
       "    .dataframe thead th {\n",
       "        text-align: right;\n",
       "    }\n",
       "</style>\n",
       "<table border=\"1\" class=\"dataframe\">\n",
       "  <thead>\n",
       "    <tr style=\"text-align: right;\">\n",
       "      <th></th>\n",
       "      <th>ISBN</th>\n",
       "      <th>user_num</th>\n",
       "    </tr>\n",
       "  </thead>\n",
       "  <tbody>\n",
       "    <tr>\n",
       "      <th>0</th>\n",
       "      <td>0330299891</td>\n",
       "      <td>1</td>\n",
       "    </tr>\n",
       "    <tr>\n",
       "      <th>1</th>\n",
       "      <td>0375404120</td>\n",
       "      <td>1</td>\n",
       "    </tr>\n",
       "    <tr>\n",
       "      <th>2</th>\n",
       "      <td>9022906116</td>\n",
       "      <td>1</td>\n",
       "    </tr>\n",
       "    <tr>\n",
       "      <th>3</th>\n",
       "      <td>#6612432</td>\n",
       "      <td>1</td>\n",
       "    </tr>\n",
       "    <tr>\n",
       "      <th>4</th>\n",
       "      <td>'9607092910'</td>\n",
       "      <td>1</td>\n",
       "    </tr>\n",
       "  </tbody>\n",
       "</table>\n",
       "</div>"
      ],
      "text/plain": [
       "           ISBN  user_num\n",
       "0    0330299891         1\n",
       "1    0375404120         1\n",
       "2    9022906116         1\n",
       "3      #6612432         1\n",
       "4  '9607092910'         1"
      ]
     },
     "execution_count": 11,
     "metadata": {},
     "output_type": "execute_result"
    }
   ],
   "source": [
    "books_meets.head()"
   ]
  },
  {
   "cell_type": "code",
   "execution_count": 12,
   "metadata": {},
   "outputs": [
    {
     "data": {
      "text/html": [
       "<div>\n",
       "<style scoped>\n",
       "    .dataframe tbody tr th:only-of-type {\n",
       "        vertical-align: middle;\n",
       "    }\n",
       "\n",
       "    .dataframe tbody tr th {\n",
       "        vertical-align: top;\n",
       "    }\n",
       "\n",
       "    .dataframe thead th {\n",
       "        text-align: right;\n",
       "    }\n",
       "</style>\n",
       "<table border=\"1\" class=\"dataframe\">\n",
       "  <thead>\n",
       "    <tr style=\"text-align: right;\">\n",
       "      <th></th>\n",
       "      <th>ISBN</th>\n",
       "      <th>user_num</th>\n",
       "    </tr>\n",
       "  </thead>\n",
       "  <tbody>\n",
       "    <tr>\n",
       "      <th>51736</th>\n",
       "      <td>0425180433</td>\n",
       "      <td>6</td>\n",
       "    </tr>\n",
       "  </tbody>\n",
       "</table>\n",
       "</div>"
      ],
      "text/plain": [
       "             ISBN  user_num\n",
       "51736  0425180433         6"
      ]
     },
     "execution_count": 12,
     "metadata": {},
     "output_type": "execute_result"
    }
   ],
   "source": [
    "books_meets[books_meets['ISBN'] == '0425180433']"
   ]
  },
  {
   "cell_type": "code",
   "execution_count": 13,
   "metadata": {},
   "outputs": [],
   "source": [
    "user_meets = interactions.groupby(\"User-ID\")[\"ISBN\"].count().reset_index().rename(columns={\"ISBN\": \"books_num\"})"
   ]
  },
  {
   "cell_type": "code",
   "execution_count": 133,
   "metadata": {},
   "outputs": [
    {
     "data": {
      "text/html": [
       "<div>\n",
       "<style scoped>\n",
       "    .dataframe tbody tr th:only-of-type {\n",
       "        vertical-align: middle;\n",
       "    }\n",
       "\n",
       "    .dataframe tbody tr th {\n",
       "        vertical-align: top;\n",
       "    }\n",
       "\n",
       "    .dataframe thead th {\n",
       "        text-align: right;\n",
       "    }\n",
       "</style>\n",
       "<table border=\"1\" class=\"dataframe\">\n",
       "  <thead>\n",
       "    <tr style=\"text-align: right;\">\n",
       "      <th></th>\n",
       "      <th>User-ID</th>\n",
       "      <th>books_num</th>\n",
       "    </tr>\n",
       "  </thead>\n",
       "  <tbody>\n",
       "    <tr>\n",
       "      <th>0</th>\n",
       "      <td>8</td>\n",
       "      <td>7</td>\n",
       "    </tr>\n",
       "    <tr>\n",
       "      <th>1</th>\n",
       "      <td>9</td>\n",
       "      <td>1</td>\n",
       "    </tr>\n",
       "    <tr>\n",
       "      <th>2</th>\n",
       "      <td>10</td>\n",
       "      <td>1</td>\n",
       "    </tr>\n",
       "    <tr>\n",
       "      <th>3</th>\n",
       "      <td>12</td>\n",
       "      <td>1</td>\n",
       "    </tr>\n",
       "    <tr>\n",
       "      <th>4</th>\n",
       "      <td>14</td>\n",
       "      <td>3</td>\n",
       "    </tr>\n",
       "  </tbody>\n",
       "</table>\n",
       "</div>"
      ],
      "text/plain": [
       "   User-ID  books_num\n",
       "0        8          7\n",
       "1        9          1\n",
       "2       10          1\n",
       "3       12          1\n",
       "4       14          3"
      ]
     },
     "execution_count": 133,
     "metadata": {},
     "output_type": "execute_result"
    }
   ],
   "source": [
    "user_meets.head()"
   ]
  },
  {
   "cell_type": "code",
   "execution_count": 14,
   "metadata": {},
   "outputs": [
    {
     "data": {
      "text/plain": [
       "77805"
      ]
     },
     "execution_count": 14,
     "metadata": {},
     "output_type": "execute_result"
    }
   ],
   "source": [
    "len(user_meets)"
   ]
  },
  {
   "cell_type": "code",
   "execution_count": 15,
   "metadata": {},
   "outputs": [
    {
     "name": "stdout",
     "output_type": "stream",
     "text": [
      "Mean books_num estimated: 5.573819163292847\n",
      "Max books_num estimated: 8524\n",
      "Max books_num estimated: 1\n"
     ]
    }
   ],
   "source": [
    "print(f\"Mean books_num estimated: {user_meets['books_num'].mean()}\")\n",
    "print(f\"Max books_num estimated: {user_meets['books_num'].max()}\")\n",
    "print(f\"Max books_num estimated: {user_meets['books_num'].min()}\")"
   ]
  },
  {
   "cell_type": "code",
   "execution_count": 16,
   "metadata": {},
   "outputs": [
    {
     "name": "stdout",
     "output_type": "stream",
     "text": [
      "99% quantile of num_books rated: 73.0\n"
     ]
    }
   ],
   "source": [
    "print(f\"99% quantile of num_books rated: {np.quantile(user_meets['books_num'], 0.99)}\")"
   ]
  },
  {
   "cell_type": "markdown",
   "metadata": {},
   "source": [
    "#### Merge interactions, books_meets & user_meets:"
   ]
  },
  {
   "cell_type": "code",
   "execution_count": 17,
   "metadata": {},
   "outputs": [],
   "source": [
    "interactions = interactions.merge(books_meets, on=[\"ISBN\"]).merge(user_meets, on=[\"User-ID\"])"
   ]
  },
  {
   "cell_type": "code",
   "execution_count": 18,
   "metadata": {},
   "outputs": [
    {
     "data": {
      "text/html": [
       "<div>\n",
       "<style scoped>\n",
       "    .dataframe tbody tr th:only-of-type {\n",
       "        vertical-align: middle;\n",
       "    }\n",
       "\n",
       "    .dataframe tbody tr th {\n",
       "        vertical-align: top;\n",
       "    }\n",
       "\n",
       "    .dataframe thead th {\n",
       "        text-align: right;\n",
       "    }\n",
       "</style>\n",
       "<table border=\"1\" class=\"dataframe\">\n",
       "  <thead>\n",
       "    <tr style=\"text-align: right;\">\n",
       "      <th></th>\n",
       "      <th>User-ID</th>\n",
       "      <th>ISBN</th>\n",
       "      <th>Book-Rating</th>\n",
       "      <th>user_num</th>\n",
       "      <th>books_num</th>\n",
       "    </tr>\n",
       "  </thead>\n",
       "  <tbody>\n",
       "    <tr>\n",
       "      <th>0</th>\n",
       "      <td>276726</td>\n",
       "      <td>0155061224</td>\n",
       "      <td>5</td>\n",
       "      <td>1</td>\n",
       "      <td>1</td>\n",
       "    </tr>\n",
       "    <tr>\n",
       "      <th>1</th>\n",
       "      <td>276729</td>\n",
       "      <td>052165615X</td>\n",
       "      <td>3</td>\n",
       "      <td>1</td>\n",
       "      <td>2</td>\n",
       "    </tr>\n",
       "    <tr>\n",
       "      <th>2</th>\n",
       "      <td>276729</td>\n",
       "      <td>0521795028</td>\n",
       "      <td>6</td>\n",
       "      <td>1</td>\n",
       "      <td>2</td>\n",
       "    </tr>\n",
       "    <tr>\n",
       "      <th>3</th>\n",
       "      <td>276736</td>\n",
       "      <td>3257224281</td>\n",
       "      <td>8</td>\n",
       "      <td>4</td>\n",
       "      <td>1</td>\n",
       "    </tr>\n",
       "    <tr>\n",
       "      <th>4</th>\n",
       "      <td>86583</td>\n",
       "      <td>3257224281</td>\n",
       "      <td>6</td>\n",
       "      <td>4</td>\n",
       "      <td>18</td>\n",
       "    </tr>\n",
       "  </tbody>\n",
       "</table>\n",
       "</div>"
      ],
      "text/plain": [
       "   User-ID        ISBN  Book-Rating  user_num  books_num\n",
       "0   276726  0155061224            5         1          1\n",
       "1   276729  052165615X            3         1          2\n",
       "2   276729  0521795028            6         1          2\n",
       "3   276736  3257224281            8         4          1\n",
       "4    86583  3257224281            6         4         18"
      ]
     },
     "execution_count": 18,
     "metadata": {},
     "output_type": "execute_result"
    }
   ],
   "source": [
    "interactions.head()"
   ]
  },
  {
   "cell_type": "markdown",
   "metadata": {},
   "source": [
    "#### And filter by books_num & user_num to achieve objective & clean results:"
   ]
  },
  {
   "cell_type": "code",
   "execution_count": 19,
   "metadata": {},
   "outputs": [],
   "source": [
    "interactions = interactions[(interactions[\"user_num\"] > 5) & \n",
    "                            (interactions[\"books_num\"] > 2) &\n",
    "                            (interactions[\"books_num\"] < 200)]"
   ]
  },
  {
   "cell_type": "code",
   "execution_count": 20,
   "metadata": {},
   "outputs": [
    {
     "data": {
      "text/html": [
       "<div>\n",
       "<style scoped>\n",
       "    .dataframe tbody tr th:only-of-type {\n",
       "        vertical-align: middle;\n",
       "    }\n",
       "\n",
       "    .dataframe tbody tr th {\n",
       "        vertical-align: top;\n",
       "    }\n",
       "\n",
       "    .dataframe thead th {\n",
       "        text-align: right;\n",
       "    }\n",
       "</style>\n",
       "<table border=\"1\" class=\"dataframe\">\n",
       "  <thead>\n",
       "    <tr style=\"text-align: right;\">\n",
       "      <th></th>\n",
       "      <th>User-ID</th>\n",
       "      <th>ISBN</th>\n",
       "      <th>Book-Rating</th>\n",
       "      <th>user_num</th>\n",
       "      <th>books_num</th>\n",
       "    </tr>\n",
       "  </thead>\n",
       "  <tbody>\n",
       "    <tr>\n",
       "      <th>5</th>\n",
       "      <td>86583</td>\n",
       "      <td>3404139178</td>\n",
       "      <td>9</td>\n",
       "      <td>8</td>\n",
       "      <td>18</td>\n",
       "    </tr>\n",
       "    <tr>\n",
       "      <th>6</th>\n",
       "      <td>86583</td>\n",
       "      <td>3453061187</td>\n",
       "      <td>8</td>\n",
       "      <td>13</td>\n",
       "      <td>18</td>\n",
       "    </tr>\n",
       "    <tr>\n",
       "      <th>13</th>\n",
       "      <td>86583</td>\n",
       "      <td>3426609061</td>\n",
       "      <td>7</td>\n",
       "      <td>8</td>\n",
       "      <td>18</td>\n",
       "    </tr>\n",
       "    <tr>\n",
       "      <th>8555</th>\n",
       "      <td>16877</td>\n",
       "      <td>038550120X</td>\n",
       "      <td>9</td>\n",
       "      <td>81</td>\n",
       "      <td>10</td>\n",
       "    </tr>\n",
       "    <tr>\n",
       "      <th>8556</th>\n",
       "      <td>16877</td>\n",
       "      <td>034539657X</td>\n",
       "      <td>7</td>\n",
       "      <td>26</td>\n",
       "      <td>10</td>\n",
       "    </tr>\n",
       "  </tbody>\n",
       "</table>\n",
       "</div>"
      ],
      "text/plain": [
       "      User-ID        ISBN  Book-Rating  user_num  books_num\n",
       "5       86583  3404139178            9         8         18\n",
       "6       86583  3453061187            8        13         18\n",
       "13      86583  3426609061            7         8         18\n",
       "8555    16877  038550120X            9        81         10\n",
       "8556    16877  034539657X            7        26         10"
      ]
     },
     "execution_count": 20,
     "metadata": {},
     "output_type": "execute_result"
    }
   ],
   "source": [
    "interactions.head()"
   ]
  },
  {
   "cell_type": "code",
   "execution_count": 21,
   "metadata": {},
   "outputs": [
    {
     "name": "stdout",
     "output_type": "stream",
     "text": [
      "Unique number of Users: 19339\n",
      "Unique number of Books presented: 11247\n"
     ]
    }
   ],
   "source": [
    "print(f\"Unique number of Users: {interactions['User-ID'].nunique()}\")\n",
    "print(f\"Unique number of Books presented: {interactions['ISBN'].nunique()}\")"
   ]
  },
  {
   "cell_type": "markdown",
   "metadata": {},
   "source": [
    "#### Have a look on updated ratings distribution:"
   ]
  },
  {
   "cell_type": "code",
   "execution_count": 172,
   "metadata": {},
   "outputs": [
    {
     "data": {
      "text/plain": [
       "Text(0.5, 1.0, 'Updated Book-Rated Distribution')"
      ]
     },
     "execution_count": 172,
     "metadata": {},
     "output_type": "execute_result"
    },
    {
     "data": {
      "image/png": "[encoded data removed]",
      "text/plain": [
       "<Figure size 640x480 with 1 Axes>"
      ]
     },
     "metadata": {},
     "output_type": "display_data"
    }
   ],
   "source": [
    "sns.histplot(data = interactions, x = 'Book-Rating', color = 'darkblue')\n",
    "plt.title('Updated Book-Rated Distribution')"
   ]
  },
  {
   "cell_type": "markdown",
   "metadata": {},
   "source": [
    "#### User_num per book distribution:"
   ]
  },
  {
   "cell_type": "code",
   "execution_count": 22,
   "metadata": {},
   "outputs": [
    {
     "data": {
      "text/plain": [
       "(132569, 11247)"
      ]
     },
     "execution_count": 22,
     "metadata": {},
     "output_type": "execute_result"
    }
   ],
   "source": [
    "len(interactions[['ISBN', 'user_num']]), len(interactions[['ISBN', 'user_num']].drop_duplicates())"
   ]
  },
  {
   "cell_type": "code",
   "execution_count": 174,
   "metadata": {},
   "outputs": [
    {
     "data": {
      "text/plain": [
       "Text(0.5, 1.0, 'Updated user_num distribution')"
      ]
     },
     "execution_count": 174,
     "metadata": {},
     "output_type": "execute_result"
    },
    {
     "data": {
      "image/png": "[encoded data removed]",
      "text/plain": [
       "<Figure size 640x480 with 1 Axes>"
      ]
     },
     "metadata": {},
     "output_type": "display_data"
    }
   ],
   "source": [
    "sns.histplot(data = interactions[['ISBN', 'user_num']].drop_duplicates(), x = 'user_num', color = 'darkblue')\n",
    "plt.title('Updated user_num distribution')"
   ]
  },
  {
   "cell_type": "markdown",
   "metadata": {},
   "source": [
    "#### Books_num distribution:"
   ]
  },
  {
   "cell_type": "code",
   "execution_count": 175,
   "metadata": {},
   "outputs": [
    {
     "data": {
      "text/plain": [
       "Text(0.5, 1.0, 'Updated books_num distribution')"
      ]
     },
     "execution_count": 175,
     "metadata": {},
     "output_type": "execute_result"
    },
    {
     "data": {
      "image/png": "[encoded data removed]",
      "text/plain": [
       "<Figure size 640x480 with 1 Axes>"
      ]
     },
     "metadata": {},
     "output_type": "display_data"
    }
   ],
   "source": [
    "sns.histplot(data = interactions[['User-ID', 'books_num']].drop_duplicates(), x = 'books_num', color = 'darkblue')\n",
    "plt.title('Updated books_num distribution')"
   ]
  },
  {
   "cell_type": "markdown",
   "metadata": {},
   "source": [
    "#### So, what's about the users info?"
   ]
  },
  {
   "cell_type": "code",
   "execution_count": 4,
   "metadata": {},
   "outputs": [],
   "source": [
    "users = pd.read_csv('tools\\\\BX-Users.csv', delimiter=';', encoding = 'ISO-8859-1')"
   ]
  },
  {
   "cell_type": "code",
   "execution_count": 25,
   "metadata": {},
   "outputs": [
    {
     "data": {
      "text/html": [
       "<div>\n",
       "<style scoped>\n",
       "    .dataframe tbody tr th:only-of-type {\n",
       "        vertical-align: middle;\n",
       "    }\n",
       "\n",
       "    .dataframe tbody tr th {\n",
       "        vertical-align: top;\n",
       "    }\n",
       "\n",
       "    .dataframe thead th {\n",
       "        text-align: right;\n",
       "    }\n",
       "</style>\n",
       "<table border=\"1\" class=\"dataframe\">\n",
       "  <thead>\n",
       "    <tr style=\"text-align: right;\">\n",
       "      <th></th>\n",
       "      <th>User-ID</th>\n",
       "      <th>Location</th>\n",
       "      <th>Age</th>\n",
       "    </tr>\n",
       "  </thead>\n",
       "  <tbody>\n",
       "    <tr>\n",
       "      <th>0</th>\n",
       "      <td>1</td>\n",
       "      <td>nyc, new york, usa</td>\n",
       "      <td>NaN</td>\n",
       "    </tr>\n",
       "    <tr>\n",
       "      <th>1</th>\n",
       "      <td>2</td>\n",
       "      <td>stockton, california, usa</td>\n",
       "      <td>18.0</td>\n",
       "    </tr>\n",
       "    <tr>\n",
       "      <th>2</th>\n",
       "      <td>3</td>\n",
       "      <td>moscow, yukon territory, russia</td>\n",
       "      <td>NaN</td>\n",
       "    </tr>\n",
       "    <tr>\n",
       "      <th>3</th>\n",
       "      <td>4</td>\n",
       "      <td>porto, v.n.gaia, portugal</td>\n",
       "      <td>17.0</td>\n",
       "    </tr>\n",
       "    <tr>\n",
       "      <th>4</th>\n",
       "      <td>5</td>\n",
       "      <td>farnborough, hants, united kingdom</td>\n",
       "      <td>NaN</td>\n",
       "    </tr>\n",
       "  </tbody>\n",
       "</table>\n",
       "</div>"
      ],
      "text/plain": [
       "   User-ID                            Location   Age\n",
       "0        1                  nyc, new york, usa   NaN\n",
       "1        2           stockton, california, usa  18.0\n",
       "2        3     moscow, yukon territory, russia   NaN\n",
       "3        4           porto, v.n.gaia, portugal  17.0\n",
       "4        5  farnborough, hants, united kingdom   NaN"
      ]
     },
     "execution_count": 25,
     "metadata": {},
     "output_type": "execute_result"
    }
   ],
   "source": [
    "users.head()"
   ]
  },
  {
   "cell_type": "code",
   "execution_count": 26,
   "metadata": {},
   "outputs": [],
   "source": [
    "interactions = interactions.merge(books[[\"ISBN\", \"Image-URL-M\", \"Book-Title\"]].rename(\n",
    "    columns={\"Image-URL-M\": \"picture_url\"}), on=[\"ISBN\"])"
   ]
  },
  {
   "cell_type": "code",
   "execution_count": 27,
   "metadata": {},
   "outputs": [
    {
     "data": {
      "text/html": [
       "<div>\n",
       "<style scoped>\n",
       "    .dataframe tbody tr th:only-of-type {\n",
       "        vertical-align: middle;\n",
       "    }\n",
       "\n",
       "    .dataframe tbody tr th {\n",
       "        vertical-align: top;\n",
       "    }\n",
       "\n",
       "    .dataframe thead th {\n",
       "        text-align: right;\n",
       "    }\n",
       "</style>\n",
       "<table border=\"1\" class=\"dataframe\">\n",
       "  <thead>\n",
       "    <tr style=\"text-align: right;\">\n",
       "      <th></th>\n",
       "      <th>User-ID</th>\n",
       "      <th>ISBN</th>\n",
       "      <th>Book-Rating</th>\n",
       "      <th>user_num</th>\n",
       "      <th>books_num</th>\n",
       "      <th>picture_url</th>\n",
       "      <th>Book-Title</th>\n",
       "    </tr>\n",
       "  </thead>\n",
       "  <tbody>\n",
       "    <tr>\n",
       "      <th>0</th>\n",
       "      <td>86583</td>\n",
       "      <td>3404139178</td>\n",
       "      <td>9</td>\n",
       "      <td>8</td>\n",
       "      <td>18</td>\n",
       "      <td>http://images.amazon.com/images/P/3404139178.0...</td>\n",
       "      <td>Das Lacheln der Fortuna: Historischer Roman</td>\n",
       "    </tr>\n",
       "    <tr>\n",
       "      <th>1</th>\n",
       "      <td>132500</td>\n",
       "      <td>3404139178</td>\n",
       "      <td>10</td>\n",
       "      <td>8</td>\n",
       "      <td>43</td>\n",
       "      <td>http://images.amazon.com/images/P/3404139178.0...</td>\n",
       "      <td>Das Lacheln der Fortuna: Historischer Roman</td>\n",
       "    </tr>\n",
       "    <tr>\n",
       "      <th>2</th>\n",
       "      <td>66483</td>\n",
       "      <td>3404139178</td>\n",
       "      <td>10</td>\n",
       "      <td>8</td>\n",
       "      <td>83</td>\n",
       "      <td>http://images.amazon.com/images/P/3404139178.0...</td>\n",
       "      <td>Das Lacheln der Fortuna: Historischer Roman</td>\n",
       "    </tr>\n",
       "    <tr>\n",
       "      <th>3</th>\n",
       "      <td>276866</td>\n",
       "      <td>3404139178</td>\n",
       "      <td>9</td>\n",
       "      <td>8</td>\n",
       "      <td>11</td>\n",
       "      <td>http://images.amazon.com/images/P/3404139178.0...</td>\n",
       "      <td>Das Lacheln der Fortuna: Historischer Roman</td>\n",
       "    </tr>\n",
       "    <tr>\n",
       "      <th>4</th>\n",
       "      <td>106534</td>\n",
       "      <td>3404139178</td>\n",
       "      <td>6</td>\n",
       "      <td>8</td>\n",
       "      <td>6</td>\n",
       "      <td>http://images.amazon.com/images/P/3404139178.0...</td>\n",
       "      <td>Das Lacheln der Fortuna: Historischer Roman</td>\n",
       "    </tr>\n",
       "  </tbody>\n",
       "</table>\n",
       "</div>"
      ],
      "text/plain": [
       "   User-ID        ISBN  Book-Rating  user_num  books_num   \n",
       "0    86583  3404139178            9         8         18  \\\n",
       "1   132500  3404139178           10         8         43   \n",
       "2    66483  3404139178           10         8         83   \n",
       "3   276866  3404139178            9         8         11   \n",
       "4   106534  3404139178            6         8          6   \n",
       "\n",
       "                                         picture_url   \n",
       "0  http://images.amazon.com/images/P/3404139178.0...  \\\n",
       "1  http://images.amazon.com/images/P/3404139178.0...   \n",
       "2  http://images.amazon.com/images/P/3404139178.0...   \n",
       "3  http://images.amazon.com/images/P/3404139178.0...   \n",
       "4  http://images.amazon.com/images/P/3404139178.0...   \n",
       "\n",
       "                                    Book-Title  \n",
       "0  Das Lacheln der Fortuna: Historischer Roman  \n",
       "1  Das Lacheln der Fortuna: Historischer Roman  \n",
       "2  Das Lacheln der Fortuna: Historischer Roman  \n",
       "3  Das Lacheln der Fortuna: Historischer Roman  \n",
       "4  Das Lacheln der Fortuna: Historischer Roman  "
      ]
     },
     "execution_count": 27,
     "metadata": {},
     "output_type": "execute_result"
    }
   ],
   "source": [
    "interactions.head()"
   ]
  },
  {
   "cell_type": "code",
   "execution_count": 28,
   "metadata": {},
   "outputs": [],
   "source": [
    "le = preprocessing.LabelEncoder()"
   ]
  },
  {
   "cell_type": "code",
   "execution_count": 29,
   "metadata": {},
   "outputs": [],
   "source": [
    "interactions[\"product_id\"] = le.fit_transform(interactions[\"ISBN\"])\n",
    "interactions[\"vid\"] = le.fit_transform(interactions[\"User-ID\"])"
   ]
  },
  {
   "cell_type": "code",
   "execution_count": 28,
   "metadata": {},
   "outputs": [
    {
     "data": {
      "text/html": [
       "<div>\n",
       "<style scoped>\n",
       "    .dataframe tbody tr th:only-of-type {\n",
       "        vertical-align: middle;\n",
       "    }\n",
       "\n",
       "    .dataframe tbody tr th {\n",
       "        vertical-align: top;\n",
       "    }\n",
       "\n",
       "    .dataframe thead th {\n",
       "        text-align: right;\n",
       "    }\n",
       "</style>\n",
       "<table border=\"1\" class=\"dataframe\">\n",
       "  <thead>\n",
       "    <tr style=\"text-align: right;\">\n",
       "      <th></th>\n",
       "      <th>User-ID</th>\n",
       "      <th>ISBN</th>\n",
       "      <th>Book-Rating</th>\n",
       "      <th>user_num</th>\n",
       "      <th>books_num</th>\n",
       "      <th>picture_url</th>\n",
       "      <th>Book-Title</th>\n",
       "      <th>product_id</th>\n",
       "      <th>vid</th>\n",
       "    </tr>\n",
       "  </thead>\n",
       "  <tbody>\n",
       "    <tr>\n",
       "      <th>0</th>\n",
       "      <td>86583</td>\n",
       "      <td>3404139178</td>\n",
       "      <td>9</td>\n",
       "      <td>8</td>\n",
       "      <td>18</td>\n",
       "      <td>http://images.amazon.com/images/P/3404139178.0...</td>\n",
       "      <td>Das Lacheln der Fortuna: Historischer Roman</td>\n",
       "      <td>10405</td>\n",
       "      <td>5970</td>\n",
       "    </tr>\n",
       "    <tr>\n",
       "      <th>1</th>\n",
       "      <td>132500</td>\n",
       "      <td>3404139178</td>\n",
       "      <td>10</td>\n",
       "      <td>8</td>\n",
       "      <td>43</td>\n",
       "      <td>http://images.amazon.com/images/P/3404139178.0...</td>\n",
       "      <td>Das Lacheln der Fortuna: Historischer Roman</td>\n",
       "      <td>10405</td>\n",
       "      <td>9121</td>\n",
       "    </tr>\n",
       "    <tr>\n",
       "      <th>2</th>\n",
       "      <td>66483</td>\n",
       "      <td>3404139178</td>\n",
       "      <td>10</td>\n",
       "      <td>8</td>\n",
       "      <td>83</td>\n",
       "      <td>http://images.amazon.com/images/P/3404139178.0...</td>\n",
       "      <td>Das Lacheln der Fortuna: Historischer Roman</td>\n",
       "      <td>10405</td>\n",
       "      <td>4590</td>\n",
       "    </tr>\n",
       "    <tr>\n",
       "      <th>3</th>\n",
       "      <td>276866</td>\n",
       "      <td>3404139178</td>\n",
       "      <td>9</td>\n",
       "      <td>8</td>\n",
       "      <td>11</td>\n",
       "      <td>http://images.amazon.com/images/P/3404139178.0...</td>\n",
       "      <td>Das Lacheln der Fortuna: Historischer Roman</td>\n",
       "      <td>10405</td>\n",
       "      <td>18842</td>\n",
       "    </tr>\n",
       "    <tr>\n",
       "      <th>4</th>\n",
       "      <td>106534</td>\n",
       "      <td>3404139178</td>\n",
       "      <td>6</td>\n",
       "      <td>8</td>\n",
       "      <td>6</td>\n",
       "      <td>http://images.amazon.com/images/P/3404139178.0...</td>\n",
       "      <td>Das Lacheln der Fortuna: Historischer Roman</td>\n",
       "      <td>10405</td>\n",
       "      <td>7335</td>\n",
       "    </tr>\n",
       "  </tbody>\n",
       "</table>\n",
       "</div>"
      ],
      "text/plain": [
       "   User-ID        ISBN  Book-Rating  user_num  books_num   \n",
       "0    86583  3404139178            9         8         18  \\\n",
       "1   132500  3404139178           10         8         43   \n",
       "2    66483  3404139178           10         8         83   \n",
       "3   276866  3404139178            9         8         11   \n",
       "4   106534  3404139178            6         8          6   \n",
       "\n",
       "                                         picture_url   \n",
       "0  http://images.amazon.com/images/P/3404139178.0...  \\\n",
       "1  http://images.amazon.com/images/P/3404139178.0...   \n",
       "2  http://images.amazon.com/images/P/3404139178.0...   \n",
       "3  http://images.amazon.com/images/P/3404139178.0...   \n",
       "4  http://images.amazon.com/images/P/3404139178.0...   \n",
       "\n",
       "                                    Book-Title  product_id    vid  \n",
       "0  Das Lacheln der Fortuna: Historischer Roman       10405   5970  \n",
       "1  Das Lacheln der Fortuna: Historischer Roman       10405   9121  \n",
       "2  Das Lacheln der Fortuna: Historischer Roman       10405   4590  \n",
       "3  Das Lacheln der Fortuna: Historischer Roman       10405  18842  \n",
       "4  Das Lacheln der Fortuna: Historischer Roman       10405   7335  "
      ]
     },
     "execution_count": 28,
     "metadata": {},
     "output_type": "execute_result"
    }
   ],
   "source": [
    "interactions.head()"
   ]
  },
  {
   "cell_type": "code",
   "execution_count": 30,
   "metadata": {},
   "outputs": [],
   "source": [
    "csr_rates = coo_matrix((interactions[\"Book-Rating\"], (interactions[\"vid\"], interactions[\"product_id\"])), \n",
    "                            shape=(len(set(interactions[\"vid\"])), len(set(interactions[\"product_id\"]))))"
   ]
  },
  {
   "cell_type": "markdown",
   "metadata": {},
   "source": [
    "#### Let's have a look on nunique values of Books:"
   ]
  },
  {
   "cell_type": "code",
   "execution_count": 31,
   "metadata": {},
   "outputs": [
    {
     "name": "stdout",
     "output_type": "stream",
     "text": [
      "Books_unique number: 9481\n"
     ]
    }
   ],
   "source": [
    "print(f\"Books_unique number: {interactions['Book-Title'].nunique()}\")"
   ]
  },
  {
   "cell_type": "code",
   "execution_count": 32,
   "metadata": {},
   "outputs": [
    {
     "name": "stdout",
     "output_type": "stream",
     "text": [
      "Total interactions : 128505\n"
     ]
    }
   ],
   "source": [
    "print(f\"Total interactions : {len(interactions)}\")"
   ]
  },
  {
   "cell_type": "markdown",
   "metadata": {},
   "source": [
    "#### What's about books?"
   ]
  },
  {
   "cell_type": "code",
   "execution_count": 32,
   "metadata": {},
   "outputs": [
    {
     "data": {
      "text/html": [
       "<div>\n",
       "<style scoped>\n",
       "    .dataframe tbody tr th:only-of-type {\n",
       "        vertical-align: middle;\n",
       "    }\n",
       "\n",
       "    .dataframe tbody tr th {\n",
       "        vertical-align: top;\n",
       "    }\n",
       "\n",
       "    .dataframe thead th {\n",
       "        text-align: right;\n",
       "    }\n",
       "</style>\n",
       "<table border=\"1\" class=\"dataframe\">\n",
       "  <thead>\n",
       "    <tr style=\"text-align: right;\">\n",
       "      <th></th>\n",
       "      <th>ISBN</th>\n",
       "      <th>Book-Author</th>\n",
       "      <th>Year-Of-Publication</th>\n",
       "    </tr>\n",
       "  </thead>\n",
       "  <tbody>\n",
       "    <tr>\n",
       "      <th>0</th>\n",
       "      <td>0195153448</td>\n",
       "      <td>Mark P. O. Morford</td>\n",
       "      <td>2002</td>\n",
       "    </tr>\n",
       "    <tr>\n",
       "      <th>1</th>\n",
       "      <td>0002005018</td>\n",
       "      <td>Richard Bruce Wright</td>\n",
       "      <td>2001</td>\n",
       "    </tr>\n",
       "    <tr>\n",
       "      <th>2</th>\n",
       "      <td>0060973129</td>\n",
       "      <td>Carlo D'Este</td>\n",
       "      <td>1991</td>\n",
       "    </tr>\n",
       "    <tr>\n",
       "      <th>3</th>\n",
       "      <td>0374157065</td>\n",
       "      <td>Gina Bari Kolata</td>\n",
       "      <td>1999</td>\n",
       "    </tr>\n",
       "    <tr>\n",
       "      <th>4</th>\n",
       "      <td>0393045218</td>\n",
       "      <td>E. J. W. Barber</td>\n",
       "      <td>1999</td>\n",
       "    </tr>\n",
       "  </tbody>\n",
       "</table>\n",
       "</div>"
      ],
      "text/plain": [
       "         ISBN           Book-Author Year-Of-Publication\n",
       "0  0195153448    Mark P. O. Morford                2002\n",
       "1  0002005018  Richard Bruce Wright                2001\n",
       "2  0060973129          Carlo D'Este                1991\n",
       "3  0374157065      Gina Bari Kolata                1999\n",
       "4  0393045218       E. J. W. Barber                1999"
      ]
     },
     "execution_count": 32,
     "metadata": {},
     "output_type": "execute_result"
    }
   ],
   "source": [
    "books_main_info = books[['ISBN', 'Book-Author', 'Year-Of-Publication']]\n",
    "books_main_info.head()"
   ]
  },
  {
   "cell_type": "markdown",
   "metadata": {},
   "source": [
    "#### Let's denote the total interactions DataFrame, including reviewer's age, location and all additional info about the book:"
   ]
  },
  {
   "cell_type": "code",
   "execution_count": 33,
   "metadata": {},
   "outputs": [
    {
     "data": {
      "text/html": [
       "<div>\n",
       "<style scoped>\n",
       "    .dataframe tbody tr th:only-of-type {\n",
       "        vertical-align: middle;\n",
       "    }\n",
       "\n",
       "    .dataframe tbody tr th {\n",
       "        vertical-align: top;\n",
       "    }\n",
       "\n",
       "    .dataframe thead th {\n",
       "        text-align: right;\n",
       "    }\n",
       "</style>\n",
       "<table border=\"1\" class=\"dataframe\">\n",
       "  <thead>\n",
       "    <tr style=\"text-align: right;\">\n",
       "      <th></th>\n",
       "      <th>User-ID</th>\n",
       "      <th>ISBN</th>\n",
       "      <th>Book-Rating</th>\n",
       "      <th>user_num</th>\n",
       "      <th>books_num</th>\n",
       "      <th>picture_url</th>\n",
       "      <th>Book-Title</th>\n",
       "      <th>product_id</th>\n",
       "      <th>vid</th>\n",
       "      <th>Book-Author</th>\n",
       "      <th>Year-Of-Publication</th>\n",
       "    </tr>\n",
       "  </thead>\n",
       "  <tbody>\n",
       "    <tr>\n",
       "      <th>0</th>\n",
       "      <td>86583</td>\n",
       "      <td>3404139178</td>\n",
       "      <td>9</td>\n",
       "      <td>8</td>\n",
       "      <td>18</td>\n",
       "      <td>http://images.amazon.com/images/P/3404139178.0...</td>\n",
       "      <td>Das Lacheln der Fortuna: Historischer Roman</td>\n",
       "      <td>10405</td>\n",
       "      <td>5970</td>\n",
       "      <td>Rebecca Gable</td>\n",
       "      <td>1997</td>\n",
       "    </tr>\n",
       "    <tr>\n",
       "      <th>1</th>\n",
       "      <td>132500</td>\n",
       "      <td>3404139178</td>\n",
       "      <td>10</td>\n",
       "      <td>8</td>\n",
       "      <td>43</td>\n",
       "      <td>http://images.amazon.com/images/P/3404139178.0...</td>\n",
       "      <td>Das Lacheln der Fortuna: Historischer Roman</td>\n",
       "      <td>10405</td>\n",
       "      <td>9121</td>\n",
       "      <td>Rebecca Gable</td>\n",
       "      <td>1997</td>\n",
       "    </tr>\n",
       "    <tr>\n",
       "      <th>2</th>\n",
       "      <td>66483</td>\n",
       "      <td>3404139178</td>\n",
       "      <td>10</td>\n",
       "      <td>8</td>\n",
       "      <td>83</td>\n",
       "      <td>http://images.amazon.com/images/P/3404139178.0...</td>\n",
       "      <td>Das Lacheln der Fortuna: Historischer Roman</td>\n",
       "      <td>10405</td>\n",
       "      <td>4590</td>\n",
       "      <td>Rebecca Gable</td>\n",
       "      <td>1997</td>\n",
       "    </tr>\n",
       "  </tbody>\n",
       "</table>\n",
       "</div>"
      ],
      "text/plain": [
       "   User-ID        ISBN  Book-Rating  user_num  books_num   \n",
       "0    86583  3404139178            9         8         18  \\\n",
       "1   132500  3404139178           10         8         43   \n",
       "2    66483  3404139178           10         8         83   \n",
       "\n",
       "                                         picture_url   \n",
       "0  http://images.amazon.com/images/P/3404139178.0...  \\\n",
       "1  http://images.amazon.com/images/P/3404139178.0...   \n",
       "2  http://images.amazon.com/images/P/3404139178.0...   \n",
       "\n",
       "                                    Book-Title  product_id   vid   \n",
       "0  Das Lacheln der Fortuna: Historischer Roman       10405  5970  \\\n",
       "1  Das Lacheln der Fortuna: Historischer Roman       10405  9121   \n",
       "2  Das Lacheln der Fortuna: Historischer Roman       10405  4590   \n",
       "\n",
       "     Book-Author Year-Of-Publication  \n",
       "0  Rebecca Gable                1997  \n",
       "1  Rebecca Gable                1997  \n",
       "2  Rebecca Gable                1997  "
      ]
     },
     "execution_count": 33,
     "metadata": {},
     "output_type": "execute_result"
    }
   ],
   "source": [
    "total_interactions = interactions.merge(books_main_info, on=[\"ISBN\"])\n",
    "total_interactions.head(3)"
   ]
  },
  {
   "cell_type": "code",
   "execution_count": 154,
   "metadata": {},
   "outputs": [
    {
     "data": {
      "text/html": [
       "<div>\n",
       "<style scoped>\n",
       "    .dataframe tbody tr th:only-of-type {\n",
       "        vertical-align: middle;\n",
       "    }\n",
       "\n",
       "    .dataframe tbody tr th {\n",
       "        vertical-align: top;\n",
       "    }\n",
       "\n",
       "    .dataframe thead th {\n",
       "        text-align: right;\n",
       "    }\n",
       "</style>\n",
       "<table border=\"1\" class=\"dataframe\">\n",
       "  <thead>\n",
       "    <tr style=\"text-align: right;\">\n",
       "      <th></th>\n",
       "      <th>User-ID</th>\n",
       "      <th>ISBN</th>\n",
       "      <th>Book-Rating</th>\n",
       "      <th>user_num</th>\n",
       "      <th>books_num</th>\n",
       "      <th>picture_url</th>\n",
       "      <th>Book-Title</th>\n",
       "      <th>product_id</th>\n",
       "      <th>vid</th>\n",
       "      <th>Book-Author</th>\n",
       "      <th>Year-Of-Publication</th>\n",
       "      <th>Location</th>\n",
       "      <th>Age</th>\n",
       "    </tr>\n",
       "  </thead>\n",
       "  <tbody>\n",
       "    <tr>\n",
       "      <th>0</th>\n",
       "      <td>86583</td>\n",
       "      <td>3404139178</td>\n",
       "      <td>9</td>\n",
       "      <td>8</td>\n",
       "      <td>18</td>\n",
       "      <td>http://images.amazon.com/images/P/3404139178.0...</td>\n",
       "      <td>Das Lacheln der Fortuna: Historischer Roman</td>\n",
       "      <td>10405</td>\n",
       "      <td>5970</td>\n",
       "      <td>Rebecca Gable</td>\n",
       "      <td>1997</td>\n",
       "      <td>stuttgart, , germany</td>\n",
       "      <td>31.0</td>\n",
       "    </tr>\n",
       "    <tr>\n",
       "      <th>1</th>\n",
       "      <td>86583</td>\n",
       "      <td>3453061187</td>\n",
       "      <td>8</td>\n",
       "      <td>13</td>\n",
       "      <td>18</td>\n",
       "      <td>http://images.amazon.com/images/P/3453061187.0...</td>\n",
       "      <td>Die Jury. Roman.</td>\n",
       "      <td>10504</td>\n",
       "      <td>5970</td>\n",
       "      <td>John Grisham</td>\n",
       "      <td>1992</td>\n",
       "      <td>stuttgart, , germany</td>\n",
       "      <td>31.0</td>\n",
       "    </tr>\n",
       "    <tr>\n",
       "      <th>2</th>\n",
       "      <td>86583</td>\n",
       "      <td>3426609061</td>\n",
       "      <td>7</td>\n",
       "      <td>8</td>\n",
       "      <td>18</td>\n",
       "      <td>http://images.amazon.com/images/P/3426609061.0...</td>\n",
       "      <td>House Of God.</td>\n",
       "      <td>10436</td>\n",
       "      <td>5970</td>\n",
       "      <td>Samuel Shem</td>\n",
       "      <td>1998</td>\n",
       "      <td>stuttgart, , germany</td>\n",
       "      <td>31.0</td>\n",
       "    </tr>\n",
       "  </tbody>\n",
       "</table>\n",
       "</div>"
      ],
      "text/plain": [
       "   User-ID        ISBN  Book-Rating  user_num  books_num   \n",
       "0    86583  3404139178            9         8         18  \\\n",
       "1    86583  3453061187            8        13         18   \n",
       "2    86583  3426609061            7         8         18   \n",
       "\n",
       "                                         picture_url   \n",
       "0  http://images.amazon.com/images/P/3404139178.0...  \\\n",
       "1  http://images.amazon.com/images/P/3453061187.0...   \n",
       "2  http://images.amazon.com/images/P/3426609061.0...   \n",
       "\n",
       "                                    Book-Title  product_id   vid   \n",
       "0  Das Lacheln der Fortuna: Historischer Roman       10405  5970  \\\n",
       "1                             Die Jury. Roman.       10504  5970   \n",
       "2                                House Of God.       10436  5970   \n",
       "\n",
       "     Book-Author Year-Of-Publication              Location   Age  \n",
       "0  Rebecca Gable                1997  stuttgart, , germany  31.0  \n",
       "1   John Grisham                1992  stuttgart, , germany  31.0  \n",
       "2    Samuel Shem                1998  stuttgart, , germany  31.0  "
      ]
     },
     "execution_count": 154,
     "metadata": {},
     "output_type": "execute_result"
    }
   ],
   "source": [
    "total_interactions_age_included = total_interactions.merge(users, on=[\"User-ID\"])\n",
    "total_interactions_age_included.head(3)"
   ]
  },
  {
   "cell_type": "markdown",
   "metadata": {},
   "source": [
    "#### Now, we should have a look on 'Location' column:"
   ]
  },
  {
   "cell_type": "code",
   "execution_count": 155,
   "metadata": {},
   "outputs": [
    {
     "name": "stdout",
     "output_type": "stream",
     "text": [
      "Number of unique Locations: 7431\n",
      "Total number of Locations: 128505\n"
     ]
    }
   ],
   "source": [
    "print(f\"Number of unique Locations: {total_interactions_age_included['Location'].nunique()}\")\n",
    "print(f\"Total number of Locations: {total_interactions_age_included['Location'].count()}\")"
   ]
  },
  {
   "cell_type": "code",
   "execution_count": 156,
   "metadata": {},
   "outputs": [],
   "source": [
    "total_interactions_age_included['Location'] = total_interactions_age_included['Location'].str.replace('[^\\w\\s]', \n",
    "                                                                                                      '',\n",
    "                                                                                                      regex = True)"
   ]
  },
  {
   "cell_type": "code",
   "execution_count": 157,
   "metadata": {},
   "outputs": [
    {
     "data": {
      "text/plain": [
       "0       stuttgart  germany\n",
       "1       stuttgart  germany\n",
       "2       stuttgart  germany\n",
       "3                   fürth \n",
       "4                   fürth \n",
       "5                   fürth \n",
       "6                   fürth \n",
       "7                   fürth \n",
       "8    berlin berlin germany\n",
       "9    berlin berlin germany\n",
       "Name: Location, dtype: object"
      ]
     },
     "execution_count": 157,
     "metadata": {},
     "output_type": "execute_result"
    }
   ],
   "source": [
    "total_interactions_age_included['Location'].head(10)"
   ]
  },
  {
   "cell_type": "markdown",
   "metadata": {},
   "source": [
    "#### Age contains NaN values. We should replace them after some analysis:"
   ]
  },
  {
   "cell_type": "code",
   "execution_count": 158,
   "metadata": {},
   "outputs": [
    {
     "name": "stdout",
     "output_type": "stream",
     "text": [
      "Age column NaN values: 35532\n",
      "Age column len(): 128505\n"
     ]
    }
   ],
   "source": [
    "print(f\"Age column NaN values: {len(total_interactions_age_included[total_interactions_age_included['Age'].isna() == True])}\")\n",
    "print(f\"Age column len(): {len(total_interactions_age_included['Age'])}\")"
   ]
  },
  {
   "cell_type": "markdown",
   "metadata": {},
   "source": [
    "#### Let's try to view whether the Book's Author impacts on Age of reviewers:"
   ]
  },
  {
   "cell_type": "code",
   "execution_count": 159,
   "metadata": {},
   "outputs": [
    {
     "data": {
      "text/html": [
       "<div>\n",
       "<style scoped>\n",
       "    .dataframe tbody tr th:only-of-type {\n",
       "        vertical-align: middle;\n",
       "    }\n",
       "\n",
       "    .dataframe tbody tr th {\n",
       "        vertical-align: top;\n",
       "    }\n",
       "\n",
       "    .dataframe thead th {\n",
       "        text-align: right;\n",
       "    }\n",
       "</style>\n",
       "<table border=\"1\" class=\"dataframe\">\n",
       "  <thead>\n",
       "    <tr style=\"text-align: right;\">\n",
       "      <th></th>\n",
       "      <th>User-ID</th>\n",
       "      <th>ISBN</th>\n",
       "      <th>Book-Rating</th>\n",
       "      <th>user_num</th>\n",
       "      <th>books_num</th>\n",
       "      <th>picture_url</th>\n",
       "      <th>Book-Title</th>\n",
       "      <th>product_id</th>\n",
       "      <th>vid</th>\n",
       "      <th>Book-Author</th>\n",
       "      <th>Year-Of-Publication</th>\n",
       "      <th>Location</th>\n",
       "      <th>Age</th>\n",
       "      <th>author_id</th>\n",
       "    </tr>\n",
       "  </thead>\n",
       "  <tbody>\n",
       "    <tr>\n",
       "      <th>0</th>\n",
       "      <td>86583</td>\n",
       "      <td>3404139178</td>\n",
       "      <td>9</td>\n",
       "      <td>8</td>\n",
       "      <td>18</td>\n",
       "      <td>http://images.amazon.com/images/P/3404139178.0...</td>\n",
       "      <td>Das Lacheln der Fortuna: Historischer Roman</td>\n",
       "      <td>10405</td>\n",
       "      <td>5970</td>\n",
       "      <td>Rebecca Gable</td>\n",
       "      <td>1997</td>\n",
       "      <td>stuttgart  germany</td>\n",
       "      <td>31.0</td>\n",
       "      <td>2926</td>\n",
       "    </tr>\n",
       "    <tr>\n",
       "      <th>1</th>\n",
       "      <td>86583</td>\n",
       "      <td>3453061187</td>\n",
       "      <td>8</td>\n",
       "      <td>13</td>\n",
       "      <td>18</td>\n",
       "      <td>http://images.amazon.com/images/P/3453061187.0...</td>\n",
       "      <td>Die Jury. Roman.</td>\n",
       "      <td>10504</td>\n",
       "      <td>5970</td>\n",
       "      <td>John Grisham</td>\n",
       "      <td>1992</td>\n",
       "      <td>stuttgart  germany</td>\n",
       "      <td>31.0</td>\n",
       "      <td>1753</td>\n",
       "    </tr>\n",
       "    <tr>\n",
       "      <th>2</th>\n",
       "      <td>86583</td>\n",
       "      <td>3426609061</td>\n",
       "      <td>7</td>\n",
       "      <td>8</td>\n",
       "      <td>18</td>\n",
       "      <td>http://images.amazon.com/images/P/3426609061.0...</td>\n",
       "      <td>House Of God.</td>\n",
       "      <td>10436</td>\n",
       "      <td>5970</td>\n",
       "      <td>Samuel Shem</td>\n",
       "      <td>1998</td>\n",
       "      <td>stuttgart  germany</td>\n",
       "      <td>31.0</td>\n",
       "      <td>3152</td>\n",
       "    </tr>\n",
       "  </tbody>\n",
       "</table>\n",
       "</div>"
      ],
      "text/plain": [
       "   User-ID        ISBN  Book-Rating  user_num  books_num   \n",
       "0    86583  3404139178            9         8         18  \\\n",
       "1    86583  3453061187            8        13         18   \n",
       "2    86583  3426609061            7         8         18   \n",
       "\n",
       "                                         picture_url   \n",
       "0  http://images.amazon.com/images/P/3404139178.0...  \\\n",
       "1  http://images.amazon.com/images/P/3453061187.0...   \n",
       "2  http://images.amazon.com/images/P/3426609061.0...   \n",
       "\n",
       "                                    Book-Title  product_id   vid   \n",
       "0  Das Lacheln der Fortuna: Historischer Roman       10405  5970  \\\n",
       "1                             Die Jury. Roman.       10504  5970   \n",
       "2                                House Of God.       10436  5970   \n",
       "\n",
       "     Book-Author Year-Of-Publication            Location   Age  author_id  \n",
       "0  Rebecca Gable                1997  stuttgart  germany  31.0       2926  \n",
       "1   John Grisham                1992  stuttgart  germany  31.0       1753  \n",
       "2    Samuel Shem                1998  stuttgart  germany  31.0       3152  "
      ]
     },
     "execution_count": 159,
     "metadata": {},
     "output_type": "execute_result"
    }
   ],
   "source": [
    "total_interactions_age_included['author_id'] = le.fit_transform(total_interactions_age_included[\"Book-Author\"])\n",
    "total_interactions_age_included.head(3)"
   ]
  },
  {
   "cell_type": "markdown",
   "metadata": {},
   "source": [
    "#### Build smth like barplot:"
   ]
  },
  {
   "cell_type": "code",
   "execution_count": 40,
   "metadata": {},
   "outputs": [
    {
     "data": {
      "text/plain": [
       "Text(0.5, 1.0, 'Author-Id-Mean-Age distribution')"
      ]
     },
     "execution_count": 40,
     "metadata": {},
     "output_type": "execute_result"
    },
    {
     "data": {
      "image/png": "[encoded data removed]",
      "text/plain": [
       "<Figure size 3000x1000 with 1 Axes>"
      ]
     },
     "metadata": {},
     "output_type": "display_data"
    }
   ],
   "source": [
    "figure = plt.figure(figsize = (30, 10))\n",
    "sns.barplot(data = total_interactions_age_included[total_interactions_age_included['Age'].isna() == False].iloc[:200, :],\n",
    "            x = 'author_id',\n",
    "            y = 'Age')\n",
    "plt.xticks(fontsize = 2)\n",
    "plt.title('Author-Id-Mean-Age distribution')"
   ]
  },
  {
   "cell_type": "markdown",
   "metadata": {},
   "source": [
    "#### Ok, the heterogenity shown on the barplot for 200 samples. That's why we assume each author to have his own age target audience. Tryna replace NaN values by Author's mean Age:"
   ]
  },
  {
   "cell_type": "code",
   "execution_count": 160,
   "metadata": {},
   "outputs": [],
   "source": [
    "mean_age_by_author = total_interactions_age_included\\\n",
    "    .groupby('author_id')['Age']\\\n",
    "    .mean()\\\n",
    "    .reset_index()\\\n",
    "    .rename(columns={\"Age\": \"mean_age\"})"
   ]
  },
  {
   "cell_type": "code",
   "execution_count": 161,
   "metadata": {},
   "outputs": [],
   "source": [
    "mean_age_by_author_dict = dict(zip(mean_age_by_author['author_id'], mean_age_by_author['mean_age']))"
   ]
  },
  {
   "cell_type": "code",
   "execution_count": 163,
   "metadata": {},
   "outputs": [],
   "source": [
    "total_interactions_age_included['Age'] = total_interactions_age_included['Age'] \\\n",
    "    .fillna(total_interactions_age_included['author_id'].map(mean_age_by_author_dict))"
   ]
  },
  {
   "cell_type": "code",
   "execution_count": 164,
   "metadata": {},
   "outputs": [
    {
     "name": "stdout",
     "output_type": "stream",
     "text": [
      "Number of NaN Age values *updated*: 42\n"
     ]
    }
   ],
   "source": [
    "print(f\"Number of NaN Age values *updated*: {len(total_interactions_age_included[total_interactions_age_included['Age'].isna() == True])}\")"
   ]
  },
  {
   "cell_type": "markdown",
   "metadata": {},
   "source": [
    "#### Here we got 42 NaN values at least:"
   ]
  },
  {
   "cell_type": "code",
   "execution_count": 165,
   "metadata": {},
   "outputs": [
    {
     "data": {
      "text/plain": [
       "array(['Why Your Life Sucks:  And What You Can Do About It'], dtype=object)"
      ]
     },
     "execution_count": 165,
     "metadata": {},
     "output_type": "execute_result"
    }
   ],
   "source": [
    "total_interactions_age_included[total_interactions_age_included['Age'].isna() == True].tail(1)['Book-Title'].values"
   ]
  },
  {
   "cell_type": "markdown",
   "metadata": {},
   "source": [
    "#### So, it means that there's no information at all about the target age of the audience. May be we should try to know how to predict the age using the Book-Title information. \n",
    "#### Idk should we actually do that (probably the simplest way is to just drop this rows), but we're Machine Leearning Engineers. Let's have a try to build the regressor with word2vec. Why Not?"
   ]
  },
  {
   "cell_type": "code",
   "execution_count": 166,
   "metadata": {},
   "outputs": [
    {
     "name": "stdout",
     "output_type": "stream",
     "text": [
      "Number of NotNaN ages: 128463\n"
     ]
    }
   ],
   "source": [
    "age_not_nan = total_interactions_age_included[total_interactions_age_included['Age'].isna() == False]\n",
    "age_nan = total_interactions_age_included[total_interactions_age_included['Age'].isna() == True]\n",
    "print(f\"Number of NotNaN ages: {len(age_not_nan)}\")"
   ]
  },
  {
   "cell_type": "code",
   "execution_count": 167,
   "metadata": {},
   "outputs": [
    {
     "name": "stdout",
     "output_type": "stream",
     "text": [
      "Number of NaN ages: 42\n"
     ]
    }
   ],
   "source": [
    "print(f\"Number of NaN ages: {len(age_nan)}\")"
   ]
  },
  {
   "cell_type": "markdown",
   "metadata": {},
   "source": [
    "#### But before let's have a look on the Age distribution:"
   ]
  },
  {
   "cell_type": "code",
   "execution_count": 168,
   "metadata": {},
   "outputs": [
    {
     "name": "stdout",
     "output_type": "stream",
     "text": [
      "Min Age: 0.0\n",
      "Max Age: 244.0\n",
      "Mean Age: 36.517412782111094\n"
     ]
    }
   ],
   "source": [
    "print(f\"Min Age: {total_interactions_age_included['Age'].min()}\")\n",
    "print(f\"Max Age: {total_interactions_age_included['Age'].max()}\")\n",
    "print(f\"Mean Age: {total_interactions_age_included['Age'].mean()}\")"
   ]
  },
  {
   "cell_type": "code",
   "execution_count": 106,
   "metadata": {},
   "outputs": [
    {
     "data": {
      "text/plain": [
       "Text(0.5, 1.0, 'Age distribution')"
      ]
     },
     "execution_count": 106,
     "metadata": {},
     "output_type": "execute_result"
    },
    {
     "data": {
      "image/png": "[encoded data removed]",
      "text/plain": [
       "<Figure size 640x480 with 1 Axes>"
      ]
     },
     "metadata": {},
     "output_type": "display_data"
    }
   ],
   "source": [
    "sns.histplot(data = total_interactions_age_included, x = 'Age', color = 'magenta')\n",
    "plt.title('Age distribution')"
   ]
  },
  {
   "cell_type": "code",
   "execution_count": 169,
   "metadata": {},
   "outputs": [
    {
     "name": "stdout",
     "output_type": "stream",
     "text": [
      "Age 0.015 quantile: 16.0\n",
      "Age 0.975 quantile: 62.0\n"
     ]
    }
   ],
   "source": [
    "isna_false = total_interactions_age_included[total_interactions_age_included['Age'].isna() == False]['Age']\n",
    "quantile = 0.015\n",
    "print(f\"Age {quantile} quantile: {np.quantile(isna_false, quantile)}\")\n",
    "\n",
    "quantile = 0.975\n",
    "print(f\"Age {quantile} quantile: {np.quantile(isna_false, quantile)}\")"
   ]
  },
  {
   "cell_type": "markdown",
   "metadata": {},
   "source": [
    "#### And filter not interesting Ages:"
   ]
  },
  {
   "cell_type": "code",
   "execution_count": 170,
   "metadata": {},
   "outputs": [],
   "source": [
    "total_interactions_age_included = total_interactions_age_included[(total_interactions_age_included['Age'] >=16) &\n",
    "                                                                  (total_interactions_age_included['Age'] <=62) |\n",
    "                                                                  (total_interactions_age_included['Age'].isna() == True)]"
   ]
  },
  {
   "cell_type": "code",
   "execution_count": 171,
   "metadata": {},
   "outputs": [
    {
     "name": "stdout",
     "output_type": "stream",
     "text": [
      "Number of NaN ages: 42\n"
     ]
    }
   ],
   "source": [
    "print(f\"Number of NaN ages: {len(total_interactions_age_included[total_interactions_age_included['Age'].isna() == True])}\")"
   ]
  },
  {
   "cell_type": "markdown",
   "metadata": {},
   "source": [
    "#### And histplot again:"
   ]
  },
  {
   "cell_type": "code",
   "execution_count": 113,
   "metadata": {},
   "outputs": [
    {
     "data": {
      "text/plain": [
       "Text(0.5, 1.0, 'Age distribution *updated*')"
      ]
     },
     "execution_count": 113,
     "metadata": {},
     "output_type": "execute_result"
    },
    {
     "data": {
      "image/png": "[encoded data removed]",
      "text/plain": [
       "<Figure size 640x480 with 1 Axes>"
      ]
     },
     "metadata": {},
     "output_type": "display_data"
    }
   ],
   "source": [
    "sns.histplot(data = total_interactions_age_included, x = 'Age', color = 'magenta')\n",
    "plt.title('Age distribution *updated*')"
   ]
  },
  {
   "cell_type": "markdown",
   "metadata": {},
   "source": [
    "#### That's it. Continue with texts:"
   ]
  },
  {
   "cell_type": "code",
   "execution_count": 172,
   "metadata": {},
   "outputs": [],
   "source": [
    "age_not_nan = total_interactions_age_included[total_interactions_age_included['Age'].isna() == False]\n",
    "age_nan = total_interactions_age_included[total_interactions_age_included['Age'].isna() == True]"
   ]
  },
  {
   "cell_type": "code",
   "execution_count": 173,
   "metadata": {},
   "outputs": [
    {
     "data": {
      "text/plain": [
       "((124021, 14), (42, 14))"
      ]
     },
     "execution_count": 173,
     "metadata": {},
     "output_type": "execute_result"
    }
   ],
   "source": [
    "age_not_nan.shape, age_nan.shape"
   ]
  },
  {
   "cell_type": "code",
   "execution_count": 117,
   "metadata": {},
   "outputs": [],
   "source": [
    "def preprocess_text(text):\n",
    "    text = re.sub(r'[^A-Za-z]', ' ', text).lower()\n",
    "    tokens = word_tokenize(text)\n",
    "    tokens = [token for token in tokens]\n",
    "    return tokens\n",
    "\n",
    "corpus_titles = age_not_nan[['Book-Title']].applymap(preprocess_text)\n",
    "corpus_titles_nan = age_nan[['Book-Title']].applymap(preprocess_text)"
   ]
  },
  {
   "cell_type": "code",
   "execution_count": 118,
   "metadata": {},
   "outputs": [],
   "source": [
    "total_list = list(corpus_titles['Book-Title']) +  list(corpus_titles_nan['Book-Title'])"
   ]
  },
  {
   "cell_type": "code",
   "execution_count": 119,
   "metadata": {},
   "outputs": [],
   "source": [
    "vector_size = 200"
   ]
  },
  {
   "cell_type": "code",
   "execution_count": 120,
   "metadata": {},
   "outputs": [
    {
     "data": {
      "text/plain": [
       "(14469995, 18768270)"
      ]
     },
     "execution_count": 120,
     "metadata": {},
     "output_type": "execute_result"
    }
   ],
   "source": [
    "model_word2vec = Word2Vec(total_list,\n",
    "                          vector_size=vector_size,\n",
    "                          window = 5, min_count = 1, sg = 0)\n",
    "model_word2vec.train(total_list, total_examples = len(total_list),\n",
    "                     epochs = 30)"
   ]
  },
  {
   "cell_type": "code",
   "execution_count": 123,
   "metadata": {},
   "outputs": [
    {
     "data": {
      "text/plain": [
       "[('huckleberry', 0.9809094071388245),\n",
       " ('emerald', 0.8356122970581055),\n",
       " ('castafiore', 0.7979000210762024),\n",
       " ('tintin', 0.765967607498169),\n",
       " ('sawyer', 0.7197468876838684),\n",
       " ('kavalier', 0.714314877986908),\n",
       " ('skywalker', 0.6432481408119202),\n",
       " ('character', 0.6366966962814331),\n",
       " ('newton', 0.6155534982681274),\n",
       " ('scottish', 0.6001098155975342)]"
      ]
     },
     "execution_count": 123,
     "metadata": {},
     "output_type": "execute_result"
    }
   ],
   "source": [
    "model_word2vec.wv.most_similar('finn')"
   ]
  },
  {
   "cell_type": "code",
   "execution_count": 124,
   "metadata": {},
   "outputs": [],
   "source": [
    "def text_to_vector(text):\n",
    "    vector = []\n",
    "    for word in text:\n",
    "        if word in model_word2vec.wv:\n",
    "            vector.append(model_word2vec.wv[word])\n",
    "    return np.mean(vector, axis = 0) if vector else np.zeros(shape=(vector_size,))\n",
    "\n",
    "X_vectors = [text_to_vector(text) for text in list(corpus_titles['Book-Title'])]"
   ]
  },
  {
   "cell_type": "code",
   "execution_count": 125,
   "metadata": {},
   "outputs": [],
   "source": [
    "X = np.asarray(X_vectors)\n",
    "y = age_not_nan['Age']"
   ]
  },
  {
   "cell_type": "code",
   "execution_count": 126,
   "metadata": {},
   "outputs": [
    {
     "data": {
      "text/plain": [
       "((124021, 200), (124021,))"
      ]
     },
     "execution_count": 126,
     "metadata": {},
     "output_type": "execute_result"
    }
   ],
   "source": [
    "X.shape, y.shape"
   ]
  },
  {
   "cell_type": "code",
   "execution_count": 127,
   "metadata": {},
   "outputs": [],
   "source": [
    "X_train, X_test, Y_train, Y_test = train_test_split(X, y, test_size = 0.25, random_state = 42, shuffle = False)"
   ]
  },
  {
   "cell_type": "code",
   "execution_count": 128,
   "metadata": {},
   "outputs": [
    {
     "data": {
      "text/html": [
       "<style>#sk-container-id-4 {color: black;background-color: white;}#sk-container-id-4 pre{padding: 0;}#sk-container-id-4 div.sk-toggleable {background-color: white;}#sk-container-id-4 label.sk-toggleable__label {cursor: pointer;display: block;width: 100%;margin-bottom: 0;padding: 0.3em;box-sizing: border-box;text-align: center;}#sk-container-id-4 label.sk-toggleable__label-arrow:before {content: \"▸\";float: left;margin-right: 0.25em;color: #696969;}#sk-container-id-4 label.sk-toggleable__label-arrow:hover:before {color: black;}#sk-container-id-4 div.sk-estimator:hover label.sk-toggleable__label-arrow:before {color: black;}#sk-container-id-4 div.sk-toggleable__content {max-height: 0;max-width: 0;overflow: hidden;text-align: left;background-color: #f0f8ff;}#sk-container-id-4 div.sk-toggleable__content pre {margin: 0.2em;color: black;border-radius: 0.25em;background-color: #f0f8ff;}#sk-container-id-4 input.sk-toggleable__control:checked~div.sk-toggleable__content {max-height: 200px;max-width: 100%;overflow: auto;}#sk-container-id-4 input.sk-toggleable__control:checked~label.sk-toggleable__label-arrow:before {content: \"▾\";}#sk-container-id-4 div.sk-estimator input.sk-toggleable__control:checked~label.sk-toggleable__label {background-color: #d4ebff;}#sk-container-id-4 div.sk-label input.sk-toggleable__control:checked~label.sk-toggleable__label {background-color: #d4ebff;}#sk-container-id-4 input.sk-hidden--visually {border: 0;clip: rect(1px 1px 1px 1px);clip: rect(1px, 1px, 1px, 1px);height: 1px;margin: -1px;overflow: hidden;padding: 0;position: absolute;width: 1px;}#sk-container-id-4 div.sk-estimator {font-family: monospace;background-color: #f0f8ff;border: 1px dotted black;border-radius: 0.25em;box-sizing: border-box;margin-bottom: 0.5em;}#sk-container-id-4 div.sk-estimator:hover {background-color: #d4ebff;}#sk-container-id-4 div.sk-parallel-item::after {content: \"\";width: 100%;border-bottom: 1px solid gray;flex-grow: 1;}#sk-container-id-4 div.sk-label:hover label.sk-toggleable__label {background-color: #d4ebff;}#sk-container-id-4 div.sk-serial::before {content: \"\";position: absolute;border-left: 1px solid gray;box-sizing: border-box;top: 0;bottom: 0;left: 50%;z-index: 0;}#sk-container-id-4 div.sk-serial {display: flex;flex-direction: column;align-items: center;background-color: white;padding-right: 0.2em;padding-left: 0.2em;position: relative;}#sk-container-id-4 div.sk-item {position: relative;z-index: 1;}#sk-container-id-4 div.sk-parallel {display: flex;align-items: stretch;justify-content: center;background-color: white;position: relative;}#sk-container-id-4 div.sk-item::before, #sk-container-id-4 div.sk-parallel-item::before {content: \"\";position: absolute;border-left: 1px solid gray;box-sizing: border-box;top: 0;bottom: 0;left: 50%;z-index: -1;}#sk-container-id-4 div.sk-parallel-item {display: flex;flex-direction: column;z-index: 1;position: relative;background-color: white;}#sk-container-id-4 div.sk-parallel-item:first-child::after {align-self: flex-end;width: 50%;}#sk-container-id-4 div.sk-parallel-item:last-child::after {align-self: flex-start;width: 50%;}#sk-container-id-4 div.sk-parallel-item:only-child::after {width: 0;}#sk-container-id-4 div.sk-dashed-wrapped {border: 1px dashed gray;margin: 0 0.4em 0.5em 0.4em;box-sizing: border-box;padding-bottom: 0.4em;background-color: white;}#sk-container-id-4 div.sk-label label {font-family: monospace;font-weight: bold;display: inline-block;line-height: 1.2em;}#sk-container-id-4 div.sk-label-container {text-align: center;}#sk-container-id-4 div.sk-container {/* jupyter's `normalize.less` sets `[hidden] { display: none; }` but bootstrap.min.css set `[hidden] { display: none !important; }` so we also need the `!important` here to be able to override the default hidden behavior on the sphinx rendered scikit-learn.org. See: https://github.com/scikit-learn/scikit-learn/issues/21755 */display: inline-block !important;position: relative;}#sk-container-id-4 div.sk-text-repr-fallback {display: none;}</style><div id=\"sk-container-id-4\" class=\"sk-top-container\"><div class=\"sk-text-repr-fallback\"><pre>XGBRegressor(base_score=None, booster=None, callbacks=None,\n",
       "             colsample_bylevel=None, colsample_bynode=None,\n",
       "             colsample_bytree=None, device=None, early_stopping_rounds=None,\n",
       "             enable_categorical=False, eval_metric=None, feature_types=None,\n",
       "             gamma=None, grow_policy=None, importance_type=None,\n",
       "             interaction_constraints=None, learning_rate=None, max_bin=None,\n",
       "             max_cat_threshold=None, max_cat_to_onehot=None,\n",
       "             max_delta_step=None, max_depth=None, max_leaves=None,\n",
       "             min_child_weight=None, missing=nan, monotone_constraints=None,\n",
       "             multi_strategy=None, n_estimators=200, n_jobs=None,\n",
       "             num_parallel_tree=None, random_state=None, ...)</pre><b>In a Jupyter environment, please rerun this cell to show the HTML representation or trust the notebook. <br />On GitHub, the HTML representation is unable to render, please try loading this page with nbviewer.org.</b></div><div class=\"sk-container\" hidden><div class=\"sk-item\"><div class=\"sk-estimator sk-toggleable\"><input class=\"sk-toggleable__control sk-hidden--visually\" id=\"sk-estimator-id-4\" type=\"checkbox\" checked><label for=\"sk-estimator-id-4\" class=\"sk-toggleable__label sk-toggleable__label-arrow\">XGBRegressor</label><div class=\"sk-toggleable__content\"><pre>XGBRegressor(base_score=None, booster=None, callbacks=None,\n",
       "             colsample_bylevel=None, colsample_bynode=None,\n",
       "             colsample_bytree=None, device=None, early_stopping_rounds=None,\n",
       "             enable_categorical=False, eval_metric=None, feature_types=None,\n",
       "             gamma=None, grow_policy=None, importance_type=None,\n",
       "             interaction_constraints=None, learning_rate=None, max_bin=None,\n",
       "             max_cat_threshold=None, max_cat_to_onehot=None,\n",
       "             max_delta_step=None, max_depth=None, max_leaves=None,\n",
       "             min_child_weight=None, missing=nan, monotone_constraints=None,\n",
       "             multi_strategy=None, n_estimators=200, n_jobs=None,\n",
       "             num_parallel_tree=None, random_state=None, ...)</pre></div></div></div></div></div>"
      ],
      "text/plain": [
       "XGBRegressor(base_score=None, booster=None, callbacks=None,\n",
       "             colsample_bylevel=None, colsample_bynode=None,\n",
       "             colsample_bytree=None, device=None, early_stopping_rounds=None,\n",
       "             enable_categorical=False, eval_metric=None, feature_types=None,\n",
       "             gamma=None, grow_policy=None, importance_type=None,\n",
       "             interaction_constraints=None, learning_rate=None, max_bin=None,\n",
       "             max_cat_threshold=None, max_cat_to_onehot=None,\n",
       "             max_delta_step=None, max_depth=None, max_leaves=None,\n",
       "             min_child_weight=None, missing=nan, monotone_constraints=None,\n",
       "             multi_strategy=None, n_estimators=200, n_jobs=None,\n",
       "             num_parallel_tree=None, random_state=None, ...)"
      ]
     },
     "execution_count": 128,
     "metadata": {},
     "output_type": "execute_result"
    }
   ],
   "source": [
    "age_regressor = XGBRegressor(n_estimators = 200)\n",
    "age_regressor.fit(X_train, Y_train)"
   ]
  },
  {
   "cell_type": "code",
   "execution_count": 129,
   "metadata": {},
   "outputs": [
    {
     "name": "stdout",
     "output_type": "stream",
     "text": [
      "MAE age error: 6.613472749102765\n"
     ]
    }
   ],
   "source": [
    "print(f\"MAE age error: {mean_absolute_error(y_true = Y_test, y_pred = age_regressor.predict(X_test))}\")"
   ]
  },
  {
   "cell_type": "code",
   "execution_count": 130,
   "metadata": {},
   "outputs": [
    {
     "data": {
      "text/plain": [
       "Text(0.5, 0, 'Absolute error')"
      ]
     },
     "execution_count": 130,
     "metadata": {},
     "output_type": "execute_result"
    },
    {
     "data": {
      "image/png": "[encoded data removed]",
      "text/plain": [
       "<Figure size 640x480 with 1 Axes>"
      ]
     },
     "metadata": {},
     "output_type": "display_data"
    }
   ],
   "source": [
    "error = np.abs(Y_train - age_regressor.predict(X_train))\n",
    "sns.histplot(x = error, color = 'chocolate', kde = True)\n",
    "plt.title('Absolute error XGB distribution')\n",
    "plt.xlabel('Absolute error')"
   ]
  },
  {
   "cell_type": "code",
   "execution_count": 75,
   "metadata": {},
   "outputs": [
    {
     "data": {
      "text/html": [
       "<style>#sk-container-id-3 {color: black;background-color: white;}#sk-container-id-3 pre{padding: 0;}#sk-container-id-3 div.sk-toggleable {background-color: white;}#sk-container-id-3 label.sk-toggleable__label {cursor: pointer;display: block;width: 100%;margin-bottom: 0;padding: 0.3em;box-sizing: border-box;text-align: center;}#sk-container-id-3 label.sk-toggleable__label-arrow:before {content: \"▸\";float: left;margin-right: 0.25em;color: #696969;}#sk-container-id-3 label.sk-toggleable__label-arrow:hover:before {color: black;}#sk-container-id-3 div.sk-estimator:hover label.sk-toggleable__label-arrow:before {color: black;}#sk-container-id-3 div.sk-toggleable__content {max-height: 0;max-width: 0;overflow: hidden;text-align: left;background-color: #f0f8ff;}#sk-container-id-3 div.sk-toggleable__content pre {margin: 0.2em;color: black;border-radius: 0.25em;background-color: #f0f8ff;}#sk-container-id-3 input.sk-toggleable__control:checked~div.sk-toggleable__content {max-height: 200px;max-width: 100%;overflow: auto;}#sk-container-id-3 input.sk-toggleable__control:checked~label.sk-toggleable__label-arrow:before {content: \"▾\";}#sk-container-id-3 div.sk-estimator input.sk-toggleable__control:checked~label.sk-toggleable__label {background-color: #d4ebff;}#sk-container-id-3 div.sk-label input.sk-toggleable__control:checked~label.sk-toggleable__label {background-color: #d4ebff;}#sk-container-id-3 input.sk-hidden--visually {border: 0;clip: rect(1px 1px 1px 1px);clip: rect(1px, 1px, 1px, 1px);height: 1px;margin: -1px;overflow: hidden;padding: 0;position: absolute;width: 1px;}#sk-container-id-3 div.sk-estimator {font-family: monospace;background-color: #f0f8ff;border: 1px dotted black;border-radius: 0.25em;box-sizing: border-box;margin-bottom: 0.5em;}#sk-container-id-3 div.sk-estimator:hover {background-color: #d4ebff;}#sk-container-id-3 div.sk-parallel-item::after {content: \"\";width: 100%;border-bottom: 1px solid gray;flex-grow: 1;}#sk-container-id-3 div.sk-label:hover label.sk-toggleable__label {background-color: #d4ebff;}#sk-container-id-3 div.sk-serial::before {content: \"\";position: absolute;border-left: 1px solid gray;box-sizing: border-box;top: 0;bottom: 0;left: 50%;z-index: 0;}#sk-container-id-3 div.sk-serial {display: flex;flex-direction: column;align-items: center;background-color: white;padding-right: 0.2em;padding-left: 0.2em;position: relative;}#sk-container-id-3 div.sk-item {position: relative;z-index: 1;}#sk-container-id-3 div.sk-parallel {display: flex;align-items: stretch;justify-content: center;background-color: white;position: relative;}#sk-container-id-3 div.sk-item::before, #sk-container-id-3 div.sk-parallel-item::before {content: \"\";position: absolute;border-left: 1px solid gray;box-sizing: border-box;top: 0;bottom: 0;left: 50%;z-index: -1;}#sk-container-id-3 div.sk-parallel-item {display: flex;flex-direction: column;z-index: 1;position: relative;background-color: white;}#sk-container-id-3 div.sk-parallel-item:first-child::after {align-self: flex-end;width: 50%;}#sk-container-id-3 div.sk-parallel-item:last-child::after {align-self: flex-start;width: 50%;}#sk-container-id-3 div.sk-parallel-item:only-child::after {width: 0;}#sk-container-id-3 div.sk-dashed-wrapped {border: 1px dashed gray;margin: 0 0.4em 0.5em 0.4em;box-sizing: border-box;padding-bottom: 0.4em;background-color: white;}#sk-container-id-3 div.sk-label label {font-family: monospace;font-weight: bold;display: inline-block;line-height: 1.2em;}#sk-container-id-3 div.sk-label-container {text-align: center;}#sk-container-id-3 div.sk-container {/* jupyter's `normalize.less` sets `[hidden] { display: none; }` but bootstrap.min.css set `[hidden] { display: none !important; }` so we also need the `!important` here to be able to override the default hidden behavior on the sphinx rendered scikit-learn.org. See: https://github.com/scikit-learn/scikit-learn/issues/21755 */display: inline-block !important;position: relative;}#sk-container-id-3 div.sk-text-repr-fallback {display: none;}</style><div id=\"sk-container-id-3\" class=\"sk-top-container\"><div class=\"sk-text-repr-fallback\"><pre>XGBRegressor(base_score=None, booster=None, callbacks=None,\n",
       "             colsample_bylevel=None, colsample_bynode=None,\n",
       "             colsample_bytree=None, device=None, early_stopping_rounds=None,\n",
       "             enable_categorical=False, eval_metric=None, feature_types=None,\n",
       "             gamma=None, grow_policy=None, importance_type=None,\n",
       "             interaction_constraints=None, learning_rate=None, max_bin=None,\n",
       "             max_cat_threshold=None, max_cat_to_onehot=None,\n",
       "             max_delta_step=None, max_depth=None, max_leaves=None,\n",
       "             min_child_weight=None, missing=nan, monotone_constraints=None,\n",
       "             multi_strategy=None, n_estimators=150, n_jobs=None,\n",
       "             num_parallel_tree=None, random_state=None, ...)</pre><b>In a Jupyter environment, please rerun this cell to show the HTML representation or trust the notebook. <br />On GitHub, the HTML representation is unable to render, please try loading this page with nbviewer.org.</b></div><div class=\"sk-container\" hidden><div class=\"sk-item\"><div class=\"sk-estimator sk-toggleable\"><input class=\"sk-toggleable__control sk-hidden--visually\" id=\"sk-estimator-id-3\" type=\"checkbox\" checked><label for=\"sk-estimator-id-3\" class=\"sk-toggleable__label sk-toggleable__label-arrow\">XGBRegressor</label><div class=\"sk-toggleable__content\"><pre>XGBRegressor(base_score=None, booster=None, callbacks=None,\n",
       "             colsample_bylevel=None, colsample_bynode=None,\n",
       "             colsample_bytree=None, device=None, early_stopping_rounds=None,\n",
       "             enable_categorical=False, eval_metric=None, feature_types=None,\n",
       "             gamma=None, grow_policy=None, importance_type=None,\n",
       "             interaction_constraints=None, learning_rate=None, max_bin=None,\n",
       "             max_cat_threshold=None, max_cat_to_onehot=None,\n",
       "             max_delta_step=None, max_depth=None, max_leaves=None,\n",
       "             min_child_weight=None, missing=nan, monotone_constraints=None,\n",
       "             multi_strategy=None, n_estimators=150, n_jobs=None,\n",
       "             num_parallel_tree=None, random_state=None, ...)</pre></div></div></div></div></div>"
      ],
      "text/plain": [
       "XGBRegressor(base_score=None, booster=None, callbacks=None,\n",
       "             colsample_bylevel=None, colsample_bynode=None,\n",
       "             colsample_bytree=None, device=None, early_stopping_rounds=None,\n",
       "             enable_categorical=False, eval_metric=None, feature_types=None,\n",
       "             gamma=None, grow_policy=None, importance_type=None,\n",
       "             interaction_constraints=None, learning_rate=None, max_bin=None,\n",
       "             max_cat_threshold=None, max_cat_to_onehot=None,\n",
       "             max_delta_step=None, max_depth=None, max_leaves=None,\n",
       "             min_child_weight=None, missing=nan, monotone_constraints=None,\n",
       "             multi_strategy=None, n_estimators=150, n_jobs=None,\n",
       "             num_parallel_tree=None, random_state=None, ...)"
      ]
     },
     "execution_count": 75,
     "metadata": {},
     "output_type": "execute_result"
    }
   ],
   "source": [
    "mask = (error < np.quantile(error, 0.99))\n",
    "age_regressor_update = XGBRegressor(n_estimators = 150,\n",
    "                             objective = 'reg:squarederror')\n",
    "age_regressor_update.fit(X_train[mask], Y_train[mask])"
   ]
  },
  {
   "cell_type": "code",
   "execution_count": 76,
   "metadata": {},
   "outputs": [
    {
     "name": "stdout",
     "output_type": "stream",
     "text": [
      "MAE age error: 6.590192927081277\n"
     ]
    }
   ],
   "source": [
    "print(f\"MAE age error: {mean_absolute_error(y_true = Y_test, y_pred = age_regressor_update.predict(X_test))}\")"
   ]
  },
  {
   "cell_type": "markdown",
   "metadata": {},
   "source": [
    "#### On full data:"
   ]
  },
  {
   "cell_type": "code",
   "execution_count": 175,
   "metadata": {},
   "outputs": [
    {
     "data": {
      "text/html": [
       "<style>#sk-container-id-5 {color: black;background-color: white;}#sk-container-id-5 pre{padding: 0;}#sk-container-id-5 div.sk-toggleable {background-color: white;}#sk-container-id-5 label.sk-toggleable__label {cursor: pointer;display: block;width: 100%;margin-bottom: 0;padding: 0.3em;box-sizing: border-box;text-align: center;}#sk-container-id-5 label.sk-toggleable__label-arrow:before {content: \"▸\";float: left;margin-right: 0.25em;color: #696969;}#sk-container-id-5 label.sk-toggleable__label-arrow:hover:before {color: black;}#sk-container-id-5 div.sk-estimator:hover label.sk-toggleable__label-arrow:before {color: black;}#sk-container-id-5 div.sk-toggleable__content {max-height: 0;max-width: 0;overflow: hidden;text-align: left;background-color: #f0f8ff;}#sk-container-id-5 div.sk-toggleable__content pre {margin: 0.2em;color: black;border-radius: 0.25em;background-color: #f0f8ff;}#sk-container-id-5 input.sk-toggleable__control:checked~div.sk-toggleable__content {max-height: 200px;max-width: 100%;overflow: auto;}#sk-container-id-5 input.sk-toggleable__control:checked~label.sk-toggleable__label-arrow:before {content: \"▾\";}#sk-container-id-5 div.sk-estimator input.sk-toggleable__control:checked~label.sk-toggleable__label {background-color: #d4ebff;}#sk-container-id-5 div.sk-label input.sk-toggleable__control:checked~label.sk-toggleable__label {background-color: #d4ebff;}#sk-container-id-5 input.sk-hidden--visually {border: 0;clip: rect(1px 1px 1px 1px);clip: rect(1px, 1px, 1px, 1px);height: 1px;margin: -1px;overflow: hidden;padding: 0;position: absolute;width: 1px;}#sk-container-id-5 div.sk-estimator {font-family: monospace;background-color: #f0f8ff;border: 1px dotted black;border-radius: 0.25em;box-sizing: border-box;margin-bottom: 0.5em;}#sk-container-id-5 div.sk-estimator:hover {background-color: #d4ebff;}#sk-container-id-5 div.sk-parallel-item::after {content: \"\";width: 100%;border-bottom: 1px solid gray;flex-grow: 1;}#sk-container-id-5 div.sk-label:hover label.sk-toggleable__label {background-color: #d4ebff;}#sk-container-id-5 div.sk-serial::before {content: \"\";position: absolute;border-left: 1px solid gray;box-sizing: border-box;top: 0;bottom: 0;left: 50%;z-index: 0;}#sk-container-id-5 div.sk-serial {display: flex;flex-direction: column;align-items: center;background-color: white;padding-right: 0.2em;padding-left: 0.2em;position: relative;}#sk-container-id-5 div.sk-item {position: relative;z-index: 1;}#sk-container-id-5 div.sk-parallel {display: flex;align-items: stretch;justify-content: center;background-color: white;position: relative;}#sk-container-id-5 div.sk-item::before, #sk-container-id-5 div.sk-parallel-item::before {content: \"\";position: absolute;border-left: 1px solid gray;box-sizing: border-box;top: 0;bottom: 0;left: 50%;z-index: -1;}#sk-container-id-5 div.sk-parallel-item {display: flex;flex-direction: column;z-index: 1;position: relative;background-color: white;}#sk-container-id-5 div.sk-parallel-item:first-child::after {align-self: flex-end;width: 50%;}#sk-container-id-5 div.sk-parallel-item:last-child::after {align-self: flex-start;width: 50%;}#sk-container-id-5 div.sk-parallel-item:only-child::after {width: 0;}#sk-container-id-5 div.sk-dashed-wrapped {border: 1px dashed gray;margin: 0 0.4em 0.5em 0.4em;box-sizing: border-box;padding-bottom: 0.4em;background-color: white;}#sk-container-id-5 div.sk-label label {font-family: monospace;font-weight: bold;display: inline-block;line-height: 1.2em;}#sk-container-id-5 div.sk-label-container {text-align: center;}#sk-container-id-5 div.sk-container {/* jupyter's `normalize.less` sets `[hidden] { display: none; }` but bootstrap.min.css set `[hidden] { display: none !important; }` so we also need the `!important` here to be able to override the default hidden behavior on the sphinx rendered scikit-learn.org. See: https://github.com/scikit-learn/scikit-learn/issues/21755 */display: inline-block !important;position: relative;}#sk-container-id-5 div.sk-text-repr-fallback {display: none;}</style><div id=\"sk-container-id-5\" class=\"sk-top-container\"><div class=\"sk-text-repr-fallback\"><pre>XGBRegressor(base_score=None, booster=None, callbacks=None,\n",
       "             colsample_bylevel=None, colsample_bynode=None,\n",
       "             colsample_bytree=None, device=None, early_stopping_rounds=None,\n",
       "             enable_categorical=False, eval_metric=None, feature_types=None,\n",
       "             gamma=None, grow_policy=None, importance_type=None,\n",
       "             interaction_constraints=None, learning_rate=None, max_bin=None,\n",
       "             max_cat_threshold=None, max_cat_to_onehot=None,\n",
       "             max_delta_step=None, max_depth=None, max_leaves=None,\n",
       "             min_child_weight=None, missing=nan, monotone_constraints=None,\n",
       "             multi_strategy=None, n_estimators=200, n_jobs=None,\n",
       "             num_parallel_tree=None, random_state=None, ...)</pre><b>In a Jupyter environment, please rerun this cell to show the HTML representation or trust the notebook. <br />On GitHub, the HTML representation is unable to render, please try loading this page with nbviewer.org.</b></div><div class=\"sk-container\" hidden><div class=\"sk-item\"><div class=\"sk-estimator sk-toggleable\"><input class=\"sk-toggleable__control sk-hidden--visually\" id=\"sk-estimator-id-5\" type=\"checkbox\" checked><label for=\"sk-estimator-id-5\" class=\"sk-toggleable__label sk-toggleable__label-arrow\">XGBRegressor</label><div class=\"sk-toggleable__content\"><pre>XGBRegressor(base_score=None, booster=None, callbacks=None,\n",
       "             colsample_bylevel=None, colsample_bynode=None,\n",
       "             colsample_bytree=None, device=None, early_stopping_rounds=None,\n",
       "             enable_categorical=False, eval_metric=None, feature_types=None,\n",
       "             gamma=None, grow_policy=None, importance_type=None,\n",
       "             interaction_constraints=None, learning_rate=None, max_bin=None,\n",
       "             max_cat_threshold=None, max_cat_to_onehot=None,\n",
       "             max_delta_step=None, max_depth=None, max_leaves=None,\n",
       "             min_child_weight=None, missing=nan, monotone_constraints=None,\n",
       "             multi_strategy=None, n_estimators=200, n_jobs=None,\n",
       "             num_parallel_tree=None, random_state=None, ...)</pre></div></div></div></div></div>"
      ],
      "text/plain": [
       "XGBRegressor(base_score=None, booster=None, callbacks=None,\n",
       "             colsample_bylevel=None, colsample_bynode=None,\n",
       "             colsample_bytree=None, device=None, early_stopping_rounds=None,\n",
       "             enable_categorical=False, eval_metric=None, feature_types=None,\n",
       "             gamma=None, grow_policy=None, importance_type=None,\n",
       "             interaction_constraints=None, learning_rate=None, max_bin=None,\n",
       "             max_cat_threshold=None, max_cat_to_onehot=None,\n",
       "             max_delta_step=None, max_depth=None, max_leaves=None,\n",
       "             min_child_weight=None, missing=nan, monotone_constraints=None,\n",
       "             multi_strategy=None, n_estimators=200, n_jobs=None,\n",
       "             num_parallel_tree=None, random_state=None, ...)"
      ]
     },
     "execution_count": 175,
     "metadata": {},
     "output_type": "execute_result"
    }
   ],
   "source": [
    "age_regressor = XGBRegressor(n_estimators = 200)\n",
    "age_regressor.fit(X, y)"
   ]
  },
  {
   "cell_type": "markdown",
   "metadata": {},
   "source": [
    "#### Ok, probably we'll mistake for approximately 6 years of age... Guess, it's not problem at all. That's why let's have a try to predict NaN ages using the titles:"
   ]
  },
  {
   "cell_type": "code",
   "execution_count": 184,
   "metadata": {},
   "outputs": [],
   "source": [
    "X_vectors_age_nan = [text_to_vector(text) for text in list(corpus_titles_nan['Book-Title'])]\n",
    "X_vectors_age_nan_numpy = np.asarray(X_vectors_age_nan)\n",
    "y_replace = age_regressor.predict(X_vectors_age_nan_numpy)\n",
    "y_replace = y_replace.astype(int)"
   ]
  },
  {
   "cell_type": "code",
   "execution_count": 219,
   "metadata": {},
   "outputs": [
    {
     "data": {
      "text/plain": [
       "array([33, 37, 36, 35, 36, 37, 31, 31, 35, 34, 33, 35, 35, 38, 36, 35, 38,\n",
       "       31, 37, 33, 43, 36, 33, 43, 35, 37, 31, 41, 37, 33, 35, 37, 36, 37,\n",
       "       37, 36, 37, 35, 34, 31, 41, 41])"
      ]
     },
     "execution_count": 219,
     "metadata": {},
     "output_type": "execute_result"
    }
   ],
   "source": [
    "y_replace"
   ]
  },
  {
   "cell_type": "markdown",
   "metadata": {},
   "source": [
    "#### Pretty good values => let's replace NaNs:"
   ]
  },
  {
   "cell_type": "code",
   "execution_count": 224,
   "metadata": {},
   "outputs": [],
   "source": [
    "total_interactions_age_included.loc[total_interactions_age_included['Age'].isna() == True, 'Age'] = y_replace"
   ]
  },
  {
   "cell_type": "code",
   "execution_count": 225,
   "metadata": {},
   "outputs": [
    {
     "name": "stdout",
     "output_type": "stream",
     "text": [
      "Number of NaN ages: 0\n"
     ]
    }
   ],
   "source": [
    "print(f\"Number of NaN ages: {len(total_interactions_age_included[total_interactions_age_included['Age'].isna() == True])}\")"
   ]
  },
  {
   "cell_type": "markdown",
   "metadata": {},
   "source": [
    "#### Let's check for the NaN in columns and local save the file to continue tomorrow!"
   ]
  },
  {
   "cell_type": "code",
   "execution_count": 228,
   "metadata": {},
   "outputs": [
    {
     "name": "stdout",
     "output_type": "stream",
     "text": [
      "Column User-ID:\n",
      "Number of NaNs: 0\n",
      "\n",
      "Column ISBN:\n",
      "Number of NaNs: 0\n",
      "\n",
      "Column Book-Rating:\n",
      "Number of NaNs: 0\n",
      "\n",
      "Column user_num:\n",
      "Number of NaNs: 0\n",
      "\n",
      "Column books_num:\n",
      "Number of NaNs: 0\n",
      "\n",
      "Column picture_url:\n",
      "Number of NaNs: 0\n",
      "\n",
      "Column Book-Title:\n",
      "Number of NaNs: 0\n",
      "\n",
      "Column product_id:\n",
      "Number of NaNs: 0\n",
      "\n",
      "Column vid:\n",
      "Number of NaNs: 0\n",
      "\n",
      "Column Book-Author:\n",
      "Number of NaNs: 0\n",
      "\n",
      "Column Year-Of-Publication:\n",
      "Number of NaNs: 0\n",
      "\n",
      "Column Location:\n",
      "Number of NaNs: 0\n",
      "\n",
      "Column Age:\n",
      "Number of NaNs: 0\n",
      "\n",
      "Column author_id:\n",
      "Number of NaNs: 0\n",
      "\n"
     ]
    }
   ],
   "source": [
    "for column in total_interactions_age_included.columns:\n",
    "    print(f\"Column {column}:\")\n",
    "    print(f\"Number of NaNs: {len(total_interactions_age_included[total_interactions_age_included[column].isna() == True])}\")\n",
    "    print()"
   ]
  },
  {
   "cell_type": "markdown",
   "metadata": {},
   "source": [
    "#### Totally correct! Let's finally save that:"
   ]
  },
  {
   "cell_type": "code",
   "execution_count": 229,
   "metadata": {},
   "outputs": [],
   "source": [
    "total_interactions_age_included.to_csv('total_interactions_age_included.csv')"
   ]
  },
  {
   "cell_type": "markdown",
   "metadata": {},
   "source": [
    "#### Keep fit & continue:"
   ]
  },
  {
   "cell_type": "code",
   "execution_count": 34,
   "metadata": {},
   "outputs": [],
   "source": [
    "total_interactions_age_included = pd.read_csv('tools\\\\total_interactions_age_included.csv')\n",
    "total_interactions_age_included = total_interactions_age_included.drop(columns = ['Unnamed: 0'])"
   ]
  },
  {
   "cell_type": "code",
   "execution_count": 3,
   "metadata": {},
   "outputs": [
    {
     "name": "stdout",
     "output_type": "stream",
     "text": [
      "Column User-ID:\n",
      "Number of NaNs: 0\n",
      "\n",
      "Column ISBN:\n",
      "Number of NaNs: 0\n",
      "\n",
      "Column Book-Rating:\n",
      "Number of NaNs: 0\n",
      "\n",
      "Column user_num:\n",
      "Number of NaNs: 0\n",
      "\n",
      "Column books_num:\n",
      "Number of NaNs: 0\n",
      "\n",
      "Column picture_url:\n",
      "Number of NaNs: 0\n",
      "\n",
      "Column Book-Title:\n",
      "Number of NaNs: 0\n",
      "\n",
      "Column product_id:\n",
      "Number of NaNs: 0\n",
      "\n",
      "Column vid:\n",
      "Number of NaNs: 0\n",
      "\n",
      "Column Book-Author:\n",
      "Number of NaNs: 0\n",
      "\n",
      "Column Year-Of-Publication:\n",
      "Number of NaNs: 0\n",
      "\n",
      "Column Location:\n",
      "Number of NaNs: 0\n",
      "\n",
      "Column Age:\n",
      "Number of NaNs: 0\n",
      "\n",
      "Column author_id:\n",
      "Number of NaNs: 0\n",
      "\n"
     ]
    }
   ],
   "source": [
    "for column in total_interactions_age_included.columns:\n",
    "    print(f\"Column {column}:\")\n",
    "    print(f\"Number of NaNs: {len(total_interactions_age_included[total_interactions_age_included[column].isna() == True])}\")\n",
    "    print()"
   ]
  },
  {
   "cell_type": "markdown",
   "metadata": {},
   "source": [
    "#### Ok, let's again look at the age's distribution:"
   ]
  },
  {
   "cell_type": "code",
   "execution_count": 4,
   "metadata": {},
   "outputs": [
    {
     "data": {
      "text/plain": [
       "Text(0.5, 1.0, \"Age's distribution\")"
      ]
     },
     "execution_count": 4,
     "metadata": {},
     "output_type": "execute_result"
    },
    {
     "data": {
      "image/png": "[encoded data removed]",
      "text/plain": [
       "<Figure size 640x480 with 1 Axes>"
      ]
     },
     "metadata": {},
     "output_type": "display_data"
    }
   ],
   "source": [
    "sns.histplot(data = total_interactions_age_included, x = 'Age', color = 'black', kde = True)\n",
    "plt.axvline(x=23, linestyle = '--', linewidth = 2)\n",
    "plt.axvline(x=31, linestyle = '--', color = 'red', linewidth = 2)\n",
    "plt.axvline(x=40, linestyle = '--', color = 'chocolate', linewidth = 2)\n",
    "plt.axvline(x=50, linestyle = '--', color = 'magenta', linewidth = 2)\n",
    "plt.title(\"Age's distribution\")"
   ]
  },
  {
   "cell_type": "markdown",
   "metadata": {},
   "source": [
    "#### There are heterogeneity in age as we may notice and we should replace each ages by the group the age belongs to. I won't try to reinvent the wheel and just assume some age groups (5: you may see that on plot above) for reviewers:"
   ]
  },
  {
   "cell_type": "code",
   "execution_count": 35,
   "metadata": {},
   "outputs": [],
   "source": [
    "def age_group_encoding(age):\n",
    "    if (age < 23):\n",
    "        return 'students & teens'\n",
    "    elif (23 <= age < 31):\n",
    "        return 'immature adults'\n",
    "    elif (31 <= age < 40):\n",
    "        return 'citizens'\n",
    "    elif (40 >= age < 50):\n",
    "        return 'pre-retired'\n",
    "    else:\n",
    "        return 'old'\n",
    "\n",
    "total_interactions_age_included['age_group'] = total_interactions_age_included[['Age']].applymap(age_group_encoding)"
   ]
  },
  {
   "cell_type": "markdown",
   "metadata": {},
   "source": [
    "#### And barplot again:"
   ]
  },
  {
   "cell_type": "code",
   "execution_count": 36,
   "metadata": {},
   "outputs": [
    {
     "data": {
      "image/png": "[encoded data removed]",
      "text/plain": [
       "<Figure size 640x480 with 1 Axes>"
      ]
     },
     "metadata": {},
     "output_type": "display_data"
    }
   ],
   "source": [
    "sns.barplot(data = total_interactions_age_included, x = 'age_group', y = 'Age')\n",
    "plt.title('Age-age_group barplot')\n",
    "plt.xticks(fontsize = 8)\n",
    "plt.show()"
   ]
  },
  {
   "cell_type": "code",
   "execution_count": 37,
   "metadata": {},
   "outputs": [],
   "source": [
    "label_encoding = LabelEncoder()\n",
    "total_interactions_age_included['age_group_id'] = label_encoding.fit_transform(total_interactions_age_included['age_group'])"
   ]
  },
  {
   "cell_type": "code",
   "execution_count": 38,
   "metadata": {},
   "outputs": [
    {
     "data": {
      "text/plain": [
       "124063"
      ]
     },
     "execution_count": 38,
     "metadata": {},
     "output_type": "execute_result"
    }
   ],
   "source": [
    "len(total_interactions_age_included)"
   ]
  },
  {
   "cell_type": "markdown",
   "metadata": {},
   "source": [
    "#### And before we start let's denote some plotting tools:"
   ]
  },
  {
   "cell_type": "code",
   "execution_count": 164,
   "metadata": {},
   "outputs": [],
   "source": [
    "def chunks(l, n):\n",
    "    for i in range(0, len(l), n):\n",
    "        yield l[i:i + n]\n",
    "\n",
    "def rec_imaging(product_ids, content_dict, title_book, book_author, measure=None, top_n=5):\n",
    "    picture_urls = [content_dict[i] for i in product_ids]\n",
    "    cnt = 0\n",
    "    for idx, chunk in enumerate(chunks(picture_urls, top_n)):\n",
    "        # fig = plt.figure(figsize=(20, 4))\n",
    "        for n, i in enumerate(chunk):\n",
    "            # try:\n",
    "            #     r = requests.get(i)\n",
    "            #     im = Image.open(BytesIO(r.content))\n",
    "            #     print('Here')\n",
    "            # except:\n",
    "            #     print('Something went wrong with {url}'.format(url=i))\n",
    "            #     continue\n",
    "            # a = fig.add_subplot(1, top_n, n + 1)\n",
    "            if measure is not None:\n",
    "                print(f\"{cnt}. Book's title: {title_book[cnt]}\")\n",
    "                print(f\"Book's author: {book_author[cnt]}\")\n",
    "                print(\"measure = {}\".format(np.round(measure[cnt], 4)))\n",
    "                print()\n",
    "                cnt += 1\n",
    "        #     plt.imshow(im)\n",
    "        #     plt.axis('off')\n",
    "        # plt.show()"
   ]
  },
  {
   "cell_type": "code",
   "execution_count": 75,
   "metadata": {},
   "outputs": [],
   "source": [
    "columns_needed = ['Book-Rating', \n",
    "                  'picture_url',\n",
    "                  'Book-Title',\n",
    "                  'Book-Author',\n",
    "                  'age_group',\n",
    "                  'age_group_id',\n",
    "                  'Location',\n",
    "                  'product_id',\n",
    "                  'vid'\n",
    "                  ]\n",
    "total_interactions_for_top = total_interactions_age_included[columns_needed]"
   ]
  },
  {
   "cell_type": "markdown",
   "metadata": {},
   "source": [
    "### Task 1\n",
    "\n",
    "### Реализовать персональный топ  - принимает на вход возраст и локацию, на выходе персональный топ   - 1 балл\n",
    "\n",
    "Персональный топ - это топ товаров по похожим возрасту/интересам/локации. Как сделать? Разбить на сегменты по выбраным признакам. Топ делать по книгам с хорошим средним рейтингом."
   ]
  },
  {
   "cell_type": "code",
   "execution_count": 165,
   "metadata": {},
   "outputs": [],
   "source": [
    "# input_set = {'usa', 'florida'}\n",
    "def is_subset(set_example, input_str):\n",
    "    return input_str.issubset(set_example)\n",
    "\n",
    "def location_split(x):\n",
    "    return set(x.split())"
   ]
  },
  {
   "cell_type": "code",
   "execution_count": 171,
   "metadata": {},
   "outputs": [],
   "source": [
    "class Top():\n",
    "    def __init__(self, Int):\n",
    "        self.product_id_to_url = {}\n",
    "        for i in Int[[\"product_id\", \"picture_url\"]].drop_duplicates().values:\n",
    "            self.product_id_to_url[i[0]] = i[1]\n",
    "        self.interactions = Int\n",
    "        \n",
    "    def top_items(self, input_string, age):\n",
    "        items = self.interactions.groupby(['Location', 'age_group_id']).agg({'product_id': 'first',\n",
    "                                                                      'Book-Rating': 'mean',\n",
    "                                                                      'Book-Title': 'first',\n",
    "                                                                      'Book-Author': 'first'\n",
    "                                                                      }).reset_index()\\\n",
    "                                                                        .sort_values(\"Book-Rating\", ascending=False)\n",
    "        \n",
    "        input_set = set(input_string.split())                                                              \n",
    "        items['Location_splitted'] = items[['Location']].applymap(location_split)\n",
    "        items['true_location'] = items['Location_splitted'].apply(lambda x: is_subset(x, input_set))\n",
    "        located_items = items[items['true_location'] == True]\n",
    "        age_string = age_group_encoding(age)\n",
    "        encoded_age = label_encoding.transform(pd.Series(age_string))[0]\n",
    "        age_located_items = located_items[located_items['age_group_id'] == encoded_age][:15]\n",
    "        \n",
    "        rec_imaging(age_located_items[\"product_id\"].values, self.product_id_to_url,\n",
    "                    age_located_items['Book-Title'].values,\n",
    "                    age_located_items['Book-Author'].values,\n",
    "                    age_located_items[\"Book-Rating\"].values,\n",
    "                    )"
   ]
  },
  {
   "cell_type": "code",
   "execution_count": 172,
   "metadata": {},
   "outputs": [],
   "source": [
    "top_books = Top(total_interactions_for_top)"
   ]
  },
  {
   "cell_type": "code",
   "execution_count": 173,
   "metadata": {},
   "outputs": [
    {
     "data": {
      "text/plain": [
       "'http://images.amazon.com/images/P/3551551677.01.MZZZZZZZ.jpg'"
      ]
     },
     "execution_count": 173,
     "metadata": {},
     "output_type": "execute_result"
    }
   ],
   "source": [
    "top_books.interactions[\"picture_url\"][12]"
   ]
  },
  {
   "cell_type": "code",
   "execution_count": 174,
   "metadata": {},
   "outputs": [
    {
     "name": "stdout",
     "output_type": "stream",
     "text": [
      "Some problems with Image draw...\n"
     ]
    }
   ],
   "source": [
    "try:\n",
    "    r = requests.get(top_books.interactions[\"picture_url\"][12])\n",
    "    im = Image.open(BytesIO(r.content))\n",
    "    plt.imshow(im)\n",
    "except:\n",
    "     print('Some problems with Image draw...')"
   ]
  },
  {
   "cell_type": "markdown",
   "metadata": {},
   "source": [
    "#### So, some issues with plotting. That's why only Title, Author will be shown."
   ]
  },
  {
   "cell_type": "code",
   "execution_count": 181,
   "metadata": {},
   "outputs": [
    {
     "name": "stdout",
     "output_type": "stream",
     "text": [
      "0. Book's title: Name Der Rose\n",
      "Book's author: Umberto Eco\n",
      "measure = 10.0\n",
      "\n",
      "1. Book's title: Ashes to Ashes\n",
      "Book's author: TAMI HOAG\n",
      "measure = 10.0\n",
      "\n",
      "2. Book's title: Mondscheintarif\n",
      "Book's author: Ildiko Von Kurthy\n",
      "measure = 10.0\n",
      "\n",
      "3. Book's title: Maus 1. Mein Vater kotzt Geschichte aus. Die Geschichte eines Ã?Â?berlebenden.\n",
      "Book's author: Art Spiegelman\n",
      "measure = 10.0\n",
      "\n",
      "4. Book's title: Der Alchimist.\n",
      "Book's author: Paulo Coelho\n",
      "measure = 10.0\n",
      "\n",
      "5. Book's title: Asche zu Asche.\n",
      "Book's author: Elizabeth George\n",
      "measure = 10.0\n",
      "\n",
      "6. Book's title: Hearts in Atlantis\n",
      "Book's author: Stephen King\n",
      "measure = 10.0\n",
      "\n",
      "7. Book's title: Der Hahn ist tot. Roman.\n",
      "Book's author: Ingrid Noll\n",
      "measure = 9.0\n",
      "\n",
      "8. Book's title: Adressat unbekannt.\n",
      "Book's author: Kathrine Kressmann Taylor\n",
      "measure = 9.0\n",
      "\n",
      "9. Book's title: Der dritte Zwilling.\n",
      "Book's author: Ken Follett\n",
      "measure = 9.0\n",
      "\n",
      "10. Book's title: Die PÃ?Â¤pstin.\n",
      "Book's author: Donna Woolfolk Cross\n",
      "measure = 9.0\n",
      "\n",
      "11. Book's title: Asche zu Asche.\n",
      "Book's author: Elizabeth George\n",
      "measure = 9.0\n",
      "\n",
      "12. Book's title: Hunting Badger (Joe Leaphorn/Jim Chee Novels)\n",
      "Book's author: Tony Hillerman\n",
      "measure = 9.0\n",
      "\n",
      "13. Book's title: Der PferdeflÃ?Â¼sterer.\n",
      "Book's author: Nicholas Evans\n",
      "measure = 9.0\n",
      "\n",
      "14. Book's title: Illuminati.\n",
      "Book's author: Dan Brown\n",
      "measure = 9.0\n",
      "\n"
     ]
    }
   ],
   "source": [
    "top_books.top_items('germany', 50)"
   ]
  },
  {
   "cell_type": "markdown",
   "metadata": {},
   "source": [
    "#### Sure, looks like true, because we see ***Deutch*** here!"
   ]
  },
  {
   "cell_type": "code",
   "execution_count": 186,
   "metadata": {},
   "outputs": [
    {
     "name": "stdout",
     "output_type": "stream",
     "text": [
      "0. Book's title: Chroniques de San Francisco, tome 1\n",
      "Book's author: Armistead Maupin\n",
      "measure = 10.0\n",
      "\n",
      "1. Book's title: Le Crime de l'Orient-Express\n",
      "Book's author: Agatha Christie\n",
      "measure = 10.0\n",
      "\n",
      "2. Book's title: La Classe de neige\n",
      "Book's author: Emmanuel CarrÃ?Â¨re\n",
      "measure = 10.0\n",
      "\n",
      "3. Book's title: Les Dames du lac, tome 1\n",
      "Book's author: Marion Zimmer Bradley\n",
      "measure = 9.0\n",
      "\n",
      "4. Book's title: Les Contes Du Chat Perche\n",
      "Book's author: Marcel Ayme\n",
      "measure = 9.0\n",
      "\n",
      "5. Book's title: Northern Lights (His Dark Materials S.)\n",
      "Book's author: Philip Pullman\n",
      "measure = 9.0\n",
      "\n",
      "6. Book's title: Le Vieux Qui Lisait Les Romans Damour\n",
      "Book's author: Luis Sepulveda\n",
      "measure = 9.0\n",
      "\n",
      "7. Book's title: The Eyre Affair (Alex Awards (Awards))\n",
      "Book's author: Jasper Fforde\n",
      "measure = 8.6667\n",
      "\n",
      "8. Book's title: Shipping News\n",
      "Book's author: E Annie Proulx\n",
      "measure = 8.6667\n",
      "\n",
      "9. Book's title: The Hundred Secret Senses\n",
      "Book's author: Amy Tan\n",
      "measure = 8.6667\n",
      "\n",
      "10. Book's title: Un sac de billes\n",
      "Book's author: Joseph Joffo\n",
      "measure = 8.25\n",
      "\n",
      "11. Book's title: Tears of the Giraffe (No.1 Ladies Detective Agency)\n",
      "Book's author: Alexander McCall Smith\n",
      "measure = 8.1333\n",
      "\n",
      "12. Book's title: Bouquiner : Autobiobibliographie\n",
      "Book's author: Annie FranÃ?Â§ois\n",
      "measure = 8.0\n",
      "\n",
      "13. Book's title: The Sum of All Fears\n",
      "Book's author: Tom Clancy\n",
      "measure = 8.0\n",
      "\n",
      "14. Book's title: Beloved (Plume Contemporary Fiction)\n",
      "Book's author: Toni Morrison\n",
      "measure = 8.0\n",
      "\n"
     ]
    }
   ],
   "source": [
    "top_books.top_items('france', 35)"
   ]
  },
  {
   "cell_type": "markdown",
   "metadata": {},
   "source": [
    "#### So, we see ***French***. Works fine! Task 1 completed!"
   ]
  }
 ],
 "metadata": {
  "kernelspec": {
   "display_name": "venv",
   "language": "python",
   "name": "python3"
  },
  "language_info": {
   "codemirror_mode": {
    "name": "ipython",
    "version": 3
   },
   "file_extension": ".py",
   "mimetype": "text/x-python",
   "name": "python",
   "nbconvert_exporter": "python",
   "pygments_lexer": "ipython3",
   "version": "3.10.11"
  }
 },
 "nbformat": 4,
 "nbformat_minor": 2
}
